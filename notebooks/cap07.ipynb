{
 "cells": [
  {
   "cell_type": "markdown",
   "metadata": {},
   "source": [
    "### Tratamento de exceções\n",
    "\n",
    "Uma exceção ocorre quando algo inesperado acontece em algum programa, por exemplo, ao ler um texto e converter o mesmo para um número pode gerar uma exceção caso o texto lido não seva um valor numérico. Toda vez que uma exeção ocorre no python a mesma é apresentada no terminal, mostrando o que aconteceu de errado. Alé disto, o programa para de executar.\n",
    "\n",
    "A seguir um exemplo de uma exceção:"
   ]
  },
  {
   "cell_type": "code",
   "execution_count": 3,
   "metadata": {
    "collapsed": false
   },
   "outputs": [
    {
     "name": "stdout",
     "output_type": "stream",
     "text": [
      "Digite um numero: dez\n"
     ]
    },
    {
     "ename": "ValueError",
     "evalue": "could not convert string to float: dez",
     "output_type": "error",
     "traceback": [
      "\u001b[0;31m---------------------------------------------------------------------------\u001b[0m",
      "\u001b[0;31mValueError\u001b[0m                                Traceback (most recent call last)",
      "\u001b[0;32m<ipython-input-3-66bbec44bbfe>\u001b[0m in \u001b[0;36m<module>\u001b[0;34m()\u001b[0m\n\u001b[1;32m      1\u001b[0m \u001b[0mlido\u001b[0m \u001b[0;34m=\u001b[0m \u001b[0mraw_input\u001b[0m\u001b[0;34m(\u001b[0m\u001b[0;34m\"Digite um numero: \"\u001b[0m\u001b[0;34m)\u001b[0m\u001b[0;34m\u001b[0m\u001b[0m\n\u001b[0;32m----> 2\u001b[0;31m \u001b[0mfloat\u001b[0m\u001b[0;34m(\u001b[0m\u001b[0mlido\u001b[0m\u001b[0;34m)\u001b[0m\u001b[0;34m\u001b[0m\u001b[0m\n\u001b[0m",
      "\u001b[0;31mValueError\u001b[0m: could not convert string to float: dez"
     ]
    }
   ],
   "source": [
    "lido = raw_input(\"Digite um numero: \")\n",
    "valor = float(lido)\n",
    "print valor"
   ]
  },
  {
   "cell_type": "markdown",
   "metadata": {},
   "source": [
    "Observe que ao digitar o texto dez e tentar converter o mesmo para float gera uma exeção. E o programa é incerrado, ou seja o print na sequencia do código nunca vai ser executado caso haja uma exceção.\n",
    "\n",
    "Como você ja deve ter notado, um programa que encerra do nada é muito chato de ser utilizado, principalmente pq nós humanos cometemos erros e, portanto, podemos informar dados erroneamente. Portanto é importante termos uma ferramenta que nos possibilite tratar estas exceções, de forma que o programa não pare de executar. É importante frizar que podem ocorrer inumeros tipos de exceções diferentes e não apenas de entrada de dados. \n",
    "\n",
    "No python, e na maioria das linguagens de programação, o tratamento de exeções é feito com o comando <b>try</b> e o comando <b>except</b>. Estes comandos permitem ao programador tratar as exceções q possam vir a ocorrer.\n",
    "\n",
    "O comando try serve para indicar que desejamos tentar executar um comando que possa gerar uma execção, por exemplo, converter um texto para número. O try possui um bloco de código assim como o if e outros comandos que ja vimos até aqui, todos os comandos que estiverem no bloco do try ao dispararem uma exeção irão para o except. O except é onde tratamos a exceção, ou seja, caso de algum erro dentro do try, podemos tratar o erro dentro do except.\n",
    "\n",
    "Por exemplo, vamos tentar tratar o erro de converção de uma string para número.\n"
   ]
  },
  {
   "cell_type": "code",
   "execution_count": 6,
   "metadata": {
    "collapsed": false
   },
   "outputs": [
    {
     "name": "stdout",
     "output_type": "stream",
     "text": [
      "Digite um numero: dfsdfke\n",
      "você não informou um número\n",
      "dfsdfke\n"
     ]
    }
   ],
   "source": [
    "valorLido = raw_input(\"Digite um numero: \")\n",
    "\n",
    "try:\n",
    "    valorLido = float(valorLido)\n",
    "except Exception:\n",
    "    print \"você não informou um número\"\n",
    "    \n",
    "print valorLido"
   ]
  },
  {
   "cell_type": "markdown",
   "metadata": {},
   "source": [
    "Observe que ao digitar um valor não numérico não vai ser possível converter o valor para float. Desta forma gera-se uma exceção a qual pode ser taratada no exept. Agora não temos mais aquele erro que apareceu no exemplo anterior. \n",
    "\n",
    "Você notou que ao lado do except esta escrito Exception? ao lado do except nós informamos qual tipo de execeção queremos tratar, quando usamos Exception estamos dizendo ao python que aquele except vai tratar qualquer tipo de exceção possível. Estretanto as vezes um trecho de código pode gerar diferentes tipos de exceções e nem sempre queremos tratar todas as exceções no mesmo lugar pois elas podem ter lógicas diferentes.\n",
    "\n",
    " Vamos começar com um exemplo simples, em vez de colocar Exception no except vamos dizer ao except para tratar apenas a exceção que é gerada quando há um erro de conversão. Mas como saber qual é a exceção? Temos duas formas: 1- olhar na documentação do comando que estamos utilizando; ou, 2- gerar a exceção e procurar ela no terminal.\n",
    " \n",
    " Vamos ver a forma 2,  a seguir geramos a exceção:\n",
    " \n",
    " \n",
    "\n"
   ]
  },
  {
   "cell_type": "code",
   "execution_count": 7,
   "metadata": {
    "collapsed": false
   },
   "outputs": [
    {
     "ename": "ValueError",
     "evalue": "could not convert string to float: vai dar caca",
     "output_type": "error",
     "traceback": [
      "\u001b[0;31m---------------------------------------------------------------------------\u001b[0m",
      "\u001b[0;31mValueError\u001b[0m                                Traceback (most recent call last)",
      "\u001b[0;32m<ipython-input-7-ccd9bcdd63d8>\u001b[0m in \u001b[0;36m<module>\u001b[0;34m()\u001b[0m\n\u001b[0;32m----> 1\u001b[0;31m \u001b[0mfloat\u001b[0m\u001b[0;34m(\u001b[0m\u001b[0;34m\"vai dar caca\"\u001b[0m\u001b[0;34m)\u001b[0m\u001b[0;34m\u001b[0m\u001b[0m\n\u001b[0m",
      "\u001b[0;31mValueError\u001b[0m: could not convert string to float: vai dar caca"
     ]
    }
   ],
   "source": [
    "float(\"vai dar caca\")"
   ]
  },
  {
   "cell_type": "markdown",
   "metadata": {},
   "source": [
    "Podemos identificar a exceção pelo texto em vermelho. Neste caso, ValueError. E agora podemos tratar especificamente esta exceção.\n"
   ]
  },
  {
   "cell_type": "code",
   "execution_count": 8,
   "metadata": {
    "collapsed": false
   },
   "outputs": [
    {
     "name": "stdout",
     "output_type": "stream",
     "text": [
      "Digite um numero: huehue\n",
      "você não informou um número\n",
      "huehue\n"
     ]
    }
   ],
   "source": [
    "valorLido = raw_input(\"Digite um numero: \")\n",
    "\n",
    "try:\n",
    "    valorLido = float(valorLido)\n",
    "except ValueError:\n",
    "    print \"você não informou um número\"\n",
    "    \n",
    "print valorLido"
   ]
  },
  {
   "cell_type": "markdown",
   "metadata": {},
   "source": [
    "Obeserve que na pratica não fez muita diferença, mas isso se deve ao fato de que só vamos ter uma exceção ocorredo, e se tivermos duas\n",
    "Por exemplo, podemos fazer um programa que lê um numero do teclado e usamos esse numero para fazer uma divisão. Lembre que uma divisão por 0 não existe.\n",
    "\n",
    "Exemplo:\n"
   ]
  },
  {
   "cell_type": "code",
   "execution_count": 11,
   "metadata": {
    "collapsed": false
   },
   "outputs": [
    {
     "name": "stdout",
     "output_type": "stream",
     "text": [
      "digite o divisor: 0\n",
      "zero nÃo é um divisor valido\n"
     ]
    }
   ],
   "source": [
    "try:\n",
    "    num = int(raw_input(\"digite o divisor: \"))\n",
    "    resultado = 100/num\n",
    "    print resultado\n",
    "except ValueError:\n",
    "    print \"você não digitou um número!\"\n",
    "except ZeroDivisionError:\n",
    "     print \"zero nÃo é um divisor valido\"\n",
    "except Exception:\n",
    "    print \"ocorreu uma exceção desconhecida\""
   ]
  },
  {
   "cell_type": "markdown",
   "metadata": {},
   "source": [
    "Agora conseguimos tratar o erro de divisão e de escrita errada separadamente.\n",
    "\n",
    "Podemos melhorar esse programa, no caso, enquanto o usuário não digitar um valor valido, vamos repetir a leitura."
   ]
  },
  {
   "cell_type": "code",
   "execution_count": 12,
   "metadata": {
    "collapsed": false
   },
   "outputs": [
    {
     "name": "stdout",
     "output_type": "stream",
     "text": [
      "digite o divisor: 0\n",
      "zero nÃo é um divisor valido\n",
      "digite o divisor: zero\n",
      "você não digitou um número!\n",
      "digite o divisor: dez\n",
      "você não digitou um número!\n",
      "digite o divisor: 10\n",
      "10\n"
     ]
    }
   ],
   "source": [
    "while True:\n",
    "    try:\n",
    "        num = int(raw_input(\"digite o divisor: \"))\n",
    "        resultado = 100/num\n",
    "        print resultado\n",
    "        break\n",
    "    except ValueError:\n",
    "        print \"você não digitou um número!\"\n",
    "    except ZeroDivisionError:\n",
    "         print \"zero nÃo é um divisor valido\"\n",
    "    except Exception:\n",
    "        print \"ocorreu uma exceção desconhecida\""
   ]
  },
  {
   "cell_type": "code",
   "execution_count": null,
   "metadata": {
    "collapsed": true
   },
   "outputs": [],
   "source": []
  }
 ],
 "metadata": {
  "kernelspec": {
   "display_name": "Python [Root]",
   "language": "python",
   "name": "Python [Root]"
  },
  "language_info": {
   "codemirror_mode": {
    "name": "ipython",
    "version": 2
   },
   "file_extension": ".py",
   "mimetype": "text/x-python",
   "name": "python",
   "nbconvert_exporter": "python",
   "pygments_lexer": "ipython2",
   "version": "2.7.12"
  }
 },
 "nbformat": 4,
 "nbformat_minor": 0
}
