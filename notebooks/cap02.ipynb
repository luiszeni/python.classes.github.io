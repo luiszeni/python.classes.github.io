{
 "cells": [
  {
   "cell_type": "markdown",
   "metadata": {},
   "source": [
    "### Introdução\n",
    "\n",
    "Agora que você já escreveu alguns programas, provavelmente você deve ter notado que os programas que escrevemos até o momento sempre seguem um único comportamento. Mas e se eu quissese escrever, por exemplo, um programa que leia a idade de uma pessoa e se ela for menor de idade este programa tenha um comportamento, caso contrário o programa tem outro comportamento?\n",
    "\n",
    "Para escrevermos programas neste formato, ou seja, com mais de um comportamento (ou caminho) diferente , precisaremos utilizar os desvios condicionais. Como o próprio nome já diz, esta ferramenta realiza um desvio no programa dada uma determinada <u>condição</u>. Entretanto antes de vermos os desvios condicionais, precisaremos de alguns conhecimentos básicos.\n",
    "\n",
    "Iremos começar com variaveis booleanas.\n",
    "\n",
    "### Variaveis booleanas\n",
    "\n",
    "Uma variavel booleana ou valor booleano é uma variavel que só pode estar dois estados: Verdadeiro ou Falso. Esta variavel sempre vai estar em um destes estados. Outras interpretações que podemos fazer de uma variável booleana é que ela pode estar ligada(verdadeiro) ou desligada(falso). E 1 (ligado) ou 0(desligado). \n",
    "\n",
    "(parenteses da curiosidade) Sem a lógica booleana provavelmente não estariamos com nossos computadores modernos e logo nem poderiamos aprender a programar. Se você tem interesse em saber mais -> https://pt.wikipedia.org/wiki/Booleano\n",
    "\n",
    "Em python para criarmos uma variável booleana é só darmos um nome a mesma e atribuir um valor de verdadeiro ou falso a ela. No caso, como o python é baseado em ingles utilizaremos os valores True (verdadeiro) ou False (falso).\n",
    "\n",
    "Exemplos:"
   ]
  },
  {
   "cell_type": "code",
   "execution_count": 1,
   "metadata": {
    "collapsed": false
   },
   "outputs": [
    {
     "name": "stdout",
     "output_type": "stream",
     "text": [
      "True\n"
     ]
    }
   ],
   "source": [
    "o_prof_luis_eh_legal = True\n",
    "\n",
    "#observe que ao imprimir a variavel booleana criada acima temos a seguinte saida:\n",
    "print o_prof_luis_eh_legal"
   ]
  },
  {
   "cell_type": "code",
   "execution_count": 2,
   "metadata": {
    "collapsed": false
   },
   "outputs": [
    {
     "name": "stdout",
     "output_type": "stream",
     "text": [
      "tem chocolate? -> False\n",
      "e agora tem chocolate? -> True\n"
     ]
    }
   ],
   "source": [
    "temChocolate = False\n",
    "print \"tem chocolate? -> \" + str(temChocolate)\n",
    "temChocolate = True\n",
    "print \"e agora tem chocolate? -> \" + str(temChocolate)"
   ]
  },
  {
   "cell_type": "markdown",
   "metadata": {},
   "source": [
    "<div class=\"alert alert-warning\" role=\"alert\" style=\"margin: 10px\">\n",
    "<b style=\"color:red\">Cuidado com o primeiro caractere: </b> O primeiro caractere do True e do False deve sempre ser MAIUSCULO! :)\n",
    "</div>\n",
    "\n",
    "<div class=\"alert alert-warning\" role=\"alert\" style=\"margin: 10px\">\n",
    "<b >Exercícios:</b>\n",
    "<ol>\n",
    "<li> Crie uma variável booleana que armazene o valor True. </li>\n",
    "<li> Crie uma varíavel booleana com nome falaJapones com valor False</li>\n",
    "</ol>\n",
    "</div>\n",
    "\n",
    "\n",
    "Agora você deve estar se perguntado, mas o que diabos essa coisa ae de ligado/desligado tem a ver com desvios condicionais?\n",
    "\n",
    "Na realidade tem tudo a ver, pois para criarmos um desvio iremos criar condições que irão nos retornar verdadeiro ou falso. E neste sentido, nosso próximo tópico desta aula é criar algumas condições de desvio no python.\n",
    "\n",
    "### Condições e seus operadores.\n",
    "\n",
    "Uma condição é como se estivermos criando uma pergunta, vamos perguntar, por exemplo se uma coisa é maior que a outra. Se for verdade, sabemos que determinada \"coisa\" é maior, caso contrário, sabemos que pode ser igual ou menor.\n",
    "\n",
    "Antes de escrevermos algumas condições no python, iremos ver os operadores condicionais que podemos uitlizar. Segue a tabela com os que temos no python:\n",
    "\n",
    "<style type=\"text/css\">\n",
    ".tg  {border-collapse:collapse;border-spacing:0;}\n",
    ".tg td{font-family:Arial, sans-serif;font-size:14px;padding:10px 5px;border-style:solid;border-width:1px;overflow:hidden;word-break:normal;}\n",
    ".tg th{font-family:Arial, sans-serif;font-size:14px;font-weight:normal;padding:10px 5px;border-style:solid;border-width:1px;overflow:hidden;word-break:normal;}\n",
    ".tg .tg-yw4l{vertical-align:top}\n",
    "</style>\n",
    "<table class=\"tg\" style=\"undefined;table-layout: fixed; width: 344px\">\n",
    "<colgroup>\n",
    "<col style=\"width: 112px\">\n",
    "<col style=\"width: 232px\">\n",
    "</colgroup>\n",
    "  <tr>\n",
    "    <th class=\"tg-031e\">Operador</th>\n",
    "    <th class=\"tg-yw4l\">Descirção</th>\n",
    "  </tr>\n",
    "  <tr>\n",
    "    <td class=\"tg-031e\">==</td>\n",
    "    <td class=\"tg-yw4l\">compara se uma coisa é igual a outra coisa</td>\n",
    "  </tr>\n",
    "  <tr>\n",
    "    <td class=\"tg-yw4l\">!=</td>\n",
    "    <td class=\"tg-yw4l\">compara se uma coisa é diferente a outra coisa</td>\n",
    "  </tr>\n",
    "  <tr>\n",
    "    <td class=\"tg-yw4l\">&gt;</td>\n",
    "    <td class=\"tg-yw4l\">compara se uma coisa é maior que outra coisa</td>\n",
    "  </tr>\n",
    "  <tr>\n",
    "    <td class=\"tg-yw4l\">&lt;</td>\n",
    "    <td class=\"tg-yw4l\">compara se uma coisa é menor que outra coisa</td>\n",
    "  </tr>\n",
    "  <tr>\n",
    "    <td class=\"tg-yw4l\">&gt;=</td>\n",
    "    <td class=\"tg-yw4l\">compara se uma coisa é maior ou igual que outra coisa</td>\n",
    "  </tr>\n",
    "  <tr>\n",
    "    <td class=\"tg-031e\">&lt;=</td>\n",
    "    <td class=\"tg-yw4l\">compara se uma coisa é maior ou igual que outra coisa</td>\n",
    "  </tr>\n",
    "</table>\n",
    "\n",
    "Alguns exemplos:"
   ]
  },
  {
   "cell_type": "code",
   "execution_count": 3,
   "metadata": {
    "collapsed": false
   },
   "outputs": [
    {
     "data": {
      "text/plain": [
       "True"
      ]
     },
     "execution_count": 3,
     "metadata": {},
     "output_type": "execute_result"
    }
   ],
   "source": [
    "2 == 2"
   ]
  },
  {
   "cell_type": "code",
   "execution_count": 4,
   "metadata": {
    "collapsed": false
   },
   "outputs": [
    {
     "data": {
      "text/plain": [
       "False"
      ]
     },
     "execution_count": 4,
     "metadata": {},
     "output_type": "execute_result"
    }
   ],
   "source": [
    "3 == 2"
   ]
  },
  {
   "cell_type": "code",
   "execution_count": 5,
   "metadata": {
    "collapsed": false
   },
   "outputs": [
    {
     "data": {
      "text/plain": [
       "False"
      ]
     },
     "execution_count": 5,
     "metadata": {},
     "output_type": "execute_result"
    }
   ],
   "source": [
    "2 != 2"
   ]
  },
  {
   "cell_type": "code",
   "execution_count": 6,
   "metadata": {
    "collapsed": false
   },
   "outputs": [
    {
     "data": {
      "text/plain": [
       "True"
      ]
     },
     "execution_count": 6,
     "metadata": {},
     "output_type": "execute_result"
    }
   ],
   "source": [
    "2 != 3"
   ]
  },
  {
   "cell_type": "code",
   "execution_count": 7,
   "metadata": {
    "collapsed": false
   },
   "outputs": [
    {
     "data": {
      "text/plain": [
       "False"
      ]
     },
     "execution_count": 7,
     "metadata": {},
     "output_type": "execute_result"
    }
   ],
   "source": [
    "2 > 5"
   ]
  },
  {
   "cell_type": "code",
   "execution_count": 8,
   "metadata": {
    "collapsed": false
   },
   "outputs": [
    {
     "data": {
      "text/plain": [
       "True"
      ]
     },
     "execution_count": 8,
     "metadata": {},
     "output_type": "execute_result"
    }
   ],
   "source": [
    "5 > 2"
   ]
  },
  {
   "cell_type": "code",
   "execution_count": 9,
   "metadata": {
    "collapsed": false
   },
   "outputs": [
    {
     "data": {
      "text/plain": [
       "False"
      ]
     },
     "execution_count": 9,
     "metadata": {},
     "output_type": "execute_result"
    }
   ],
   "source": [
    "5 > 5"
   ]
  },
  {
   "cell_type": "code",
   "execution_count": 10,
   "metadata": {
    "collapsed": false
   },
   "outputs": [
    {
     "data": {
      "text/plain": [
       "True"
      ]
     },
     "execution_count": 10,
     "metadata": {},
     "output_type": "execute_result"
    }
   ],
   "source": [
    "5 >= 5"
   ]
  },
  {
   "cell_type": "code",
   "execution_count": 11,
   "metadata": {
    "collapsed": false
   },
   "outputs": [
    {
     "data": {
      "text/plain": [
       "False"
      ]
     },
     "execution_count": 11,
     "metadata": {},
     "output_type": "execute_result"
    }
   ],
   "source": [
    "5 < 3"
   ]
  },
  {
   "cell_type": "code",
   "execution_count": 12,
   "metadata": {
    "collapsed": false
   },
   "outputs": [
    {
     "data": {
      "text/plain": [
       "True"
      ]
     },
     "execution_count": 12,
     "metadata": {},
     "output_type": "execute_result"
    }
   ],
   "source": [
    "3 < 5"
   ]
  },
  {
   "cell_type": "code",
   "execution_count": 13,
   "metadata": {
    "collapsed": false
   },
   "outputs": [
    {
     "data": {
      "text/plain": [
       "False"
      ]
     },
     "execution_count": 13,
     "metadata": {},
     "output_type": "execute_result"
    }
   ],
   "source": [
    "3 < 3"
   ]
  },
  {
   "cell_type": "code",
   "execution_count": 14,
   "metadata": {
    "collapsed": false
   },
   "outputs": [
    {
     "data": {
      "text/plain": [
       "True"
      ]
     },
     "execution_count": 14,
     "metadata": {},
     "output_type": "execute_result"
    }
   ],
   "source": [
    "3 <= 3"
   ]
  },
  {
   "cell_type": "code",
   "execution_count": 15,
   "metadata": {
    "collapsed": false
   },
   "outputs": [
    {
     "data": {
      "text/plain": [
       "False"
      ]
     },
     "execution_count": 15,
     "metadata": {},
     "output_type": "execute_result"
    }
   ],
   "source": [
    "A = 33\n",
    "A > 50"
   ]
  },
  {
   "cell_type": "code",
   "execution_count": 16,
   "metadata": {
    "collapsed": false
   },
   "outputs": [
    {
     "data": {
      "text/plain": [
       "False"
      ]
     },
     "execution_count": 16,
     "metadata": {},
     "output_type": "execute_result"
    }
   ],
   "source": [
    "x = 660\n",
    "y = 4\n",
    "x <= y"
   ]
  },
  {
   "cell_type": "code",
   "execution_count": 17,
   "metadata": {
    "collapsed": false
   },
   "outputs": [
    {
     "name": "stdout",
     "output_type": "stream",
     "text": [
      "False\n",
      "True\n",
      "True\n",
      "False\n"
     ]
    }
   ],
   "source": [
    "nome1 = \"luis\"\n",
    "nome2 = \"maria\"\n",
    "nome3 = \"maria\"\n",
    "\n",
    "print nome1 == nome2\n",
    "print nome1 != nome2\n",
    "print nome2 == nome3\n",
    "print nome2 != nome3"
   ]
  },
  {
   "cell_type": "markdown",
   "metadata": {},
   "source": [
    "Você notou que as condições sempre retornam True ou False? Bacana não? Observe que uma condição sempre vai precisar de dois valores e ela deve sempre estar entre os valores.\n",
    "\n",
    "<div class=\"alert alert-warning\" role=\"alert\" style=\"margin: 10px\">\n",
    "<b >Exercícios:</b>\n",
    "<ol>\n",
    "<li> Crie a seguinte condição  55 > 33 </li>\n",
    "<li> Crie uma condição que compare se dois valores são iguais. Tente faze-la retornar True e False</li>\n",
    "<li> Crie uma condição que teste se alguém é maior de idade</li>\n",
    "</ol>\n",
    "</div>\n",
    "\n",
    "Já sabemos criar condições, agora podemos criar os desvios \\o/\n",
    "\n",
    "### Desvios\n",
    "\n",
    "Para criar um desvio iremos utilizar o comando if do python. O if significa \"se\" em portugues, a ideia é a seguinte: se alguma coisa é verdade, realize a seguinte sequencia de comandos. Iremos utilizar a seguinte forma para nossos comandos: <b>if <span style=\"color:red\">Valor_Booleano</span>:</b>\n",
    "\n",
    "Você notou que sempre passamos um valor booleando para o if? Mas o que é este valor booleano? Pode ser uma variavel booleana ou uma condição, lembra que toda condição vai nos dar um valor True ou False? Que é a mesma coisa que ter uma variável booleana. \n",
    "\n",
    "Vamos aos exemplos:\n"
   ]
  },
  {
   "cell_type": "code",
   "execution_count": 18,
   "metadata": {
    "collapsed": false
   },
   "outputs": [
    {
     "name": "stdout",
     "output_type": "stream",
     "text": [
      "O if empre executa quando o valor booleano passado para ele é verdade\n"
     ]
    }
   ],
   "source": [
    "if True:\n",
    "    print \"O if empre executa quando o valor booleano passado para ele é verdade\""
   ]
  },
  {
   "cell_type": "code",
   "execution_count": 19,
   "metadata": {
    "collapsed": true
   },
   "outputs": [],
   "source": [
    "if False:\n",
    "    print \"se o valor passado para o if for falso, ele não executa nada\""
   ]
  },
  {
   "cell_type": "code",
   "execution_count": 20,
   "metadata": {
    "collapsed": false
   },
   "outputs": [
    {
     "name": "stdout",
     "output_type": "stream",
     "text": [
      "como 5 é menor que 10, este print vai ser executado\n"
     ]
    }
   ],
   "source": [
    "if 5 < 10:\n",
    "    print \"como 5 é menor que 10, este print vai ser executado\"\n",
    "    "
   ]
  },
  {
   "cell_type": "markdown",
   "metadata": {},
   "source": [
    "Em resumo, o if só vai executar os códigos que estão abaixo dele caso o valor booleano passado para ele seja verdade. Mas como o if sabe quais comandos vão ser executados caso ele receba um valor verdadeiro?\n",
    "\n",
    "O if, e vários outros comandos que iremos ver possuem um bloco de código que pertence a ele.  No python, para assossiarmos um bloco de código a um if ou a algum outro comando utilizamos o alinhamento. Como você pode ver nos exemplos anteriores, todos os comandos estão um pouco mais a direita do if. Todos os comandos que estiverem neste alinamento vão estar no bloco do if e só serão exetados caso o if receba uma condição verdadeira.\n",
    "\n",
    "Exemplos:"
   ]
  },
  {
   "cell_type": "code",
   "execution_count": 21,
   "metadata": {
    "collapsed": false
   },
   "outputs": [
    {
     "name": "stdout",
     "output_type": "stream",
     "text": [
      "este print será executado pois A é diferente de B\n",
      "este outro print também sera executado pois esta dentro do bloco do if\n",
      "mostrando o calculo de C: 60\n",
      "este print sera executado independentemente do resultado do IF, pois ele esta fora do bloco do if, i.e., não esta no mesmo alinhamento\n"
     ]
    }
   ],
   "source": [
    "A = 10\n",
    "B = 50\n",
    "if A != B:\n",
    "    print \"este print será executado pois A é diferente de B\"\n",
    "    print \"este outro print também sera executado pois esta dentro do bloco do if\"\n",
    "    C = A + B #esta soma só sera calculada caso A seja diferente de B, pois ele esta dentro do bloco do if.\n",
    "    print \"mostrando o calculo de C: \" + str(C)\n",
    "print \"este print sera executado independentemente do resultado do IF, pois ele esta fora do bloco do if, i.e., não esta no mesmo alinhamento\""
   ]
  },
  {
   "cell_type": "markdown",
   "metadata": {},
   "source": [
    "Agora observe a saida do mesmo código só que quando a condição passada para o if é falsa:"
   ]
  },
  {
   "cell_type": "code",
   "execution_count": 22,
   "metadata": {
    "collapsed": false
   },
   "outputs": [
    {
     "name": "stdout",
     "output_type": "stream",
     "text": [
      "este print sera executado independentemente do resultado do IF, pois ele esta fora do bloco do if, i.e., não esta no mesmo alinhamento\n"
     ]
    }
   ],
   "source": [
    "A = 50\n",
    "B = 50\n",
    "if A != B:\n",
    "    print \"este print será executado pois A é diferente de B\"\n",
    "    print \"este outro print também sera executado pois esta dentro do bloco do if\"\n",
    "    C = A + B #esta soma só sera calculada caso A seja diferente de B, pois ele esta dentro do bloco do if.\n",
    "    print \"mostrando o calculo de C: \" + str(C)\n",
    "print \"este print sera executado independentemente do resultado do IF, pois ele esta fora do bloco do if, i.e., não esta no mesmo alinhamento\""
   ]
  },
  {
   "cell_type": "markdown",
   "metadata": {},
   "source": [
    "Você notou que apenas o print que esta fora do if foi executado?  Isto se da pois o valor passado ao IF era falso.\n",
    "\n",
    "<div class=\"alert alert-warning\" role=\"alert\" style=\"margin: 10px\">\n",
    "<b >Exercícios:</b>\n",
    "<ol>\n",
    "<li> Crie um programa que leia a nota de um aluno.  Se ele tirou mais de 6  mostre: APROVADO.</li>\n",
    "<li> Crie um programa que leia o peso de uma pessoa. Caso a pessoa tenha mais de 100kG mostre que ela precisa emagrecer. </li>\n",
    "\n",
    "</ol>\n",
    "</div>\n",
    "\n",
    "Mas e se eu quiser executar outros comandos quando a condição passada ao é falsa?\n",
    "\n",
    "### O comando else (se não)\n",
    "\n",
    "Como já vimos, o if só executa seu bloco de código quando o valor passado para ele é verdade. Entretanto algumas vezes queremos executar um bloco de código quando este valor não é verdadeiro, ou seja, falso. Para isto encadeamos ao if um comando chamado else. O else em portugues seria <b>se não</b>, ou seja, caso a condição passada ao if seja falsa executamos o bloco de código do else.\n",
    "\n",
    "Exemplo:"
   ]
  },
  {
   "cell_type": "code",
   "execution_count": 23,
   "metadata": {
    "collapsed": false
   },
   "outputs": [
    {
     "name": "stdout",
     "output_type": "stream",
     "text": [
      "maior de idade\n"
     ]
    }
   ],
   "source": [
    "idade = 19\n",
    "\n",
    "if idade < 18:\n",
    "    print \"menor de idade\"\n",
    "else:\n",
    "    print \"maior de idade\""
   ]
  },
  {
   "cell_type": "markdown",
   "metadata": {},
   "source": [
    "Como podemos ver no exemplo anterior, como a variavel idade tem um valor maior ou igual a 18 a condição passada ao if vai dar falso e portanto caiu no bloco do else.\n",
    "\n",
    "Assim como o bloco do if, o bloco do else pode executar inúmeros comandos desde que todos estejam no mesmo alinhamento mais a direita.\n",
    "\n",
    "Exemplo:"
   ]
  },
  {
   "cell_type": "code",
   "execution_count": 24,
   "metadata": {
    "collapsed": false
   },
   "outputs": [
    {
     "name": "stdout",
     "output_type": "stream",
     "text": [
      "Digite sua idade10\n",
      "menor de idade\n",
      "que tipo de bebida desejas ?\n",
      "coca cola\n",
      "guarana\n",
      "Qual bebida você escolheu? coca cola\n",
      "bebida escolhida: coca cola\n"
     ]
    }
   ],
   "source": [
    "idade = int(raw_input(\"Digite sua idade\"))\n",
    "\n",
    "if idade < 18:\n",
    "    print \"menor de idade\"\n",
    "    print \"que tipo de bebida desejas ?\"\n",
    "    print \"coca cola\"\n",
    "    print \"guarana\"\n",
    "else:\n",
    "    print \"maior de idade\"\n",
    "    print \"que tipo de bebida desejas ?\"\n",
    "    print \"coca cola\"\n",
    "    print \"guarana\"\n",
    "    print \"cerveja\"\n",
    "    print \"vodka\"\n",
    "\n",
    "bebida = raw_input(\"Qual bebida você escolheu? \")\n",
    "print \"bebida escolhida: \" + bebida"
   ]
  },
  {
   "cell_type": "markdown",
   "metadata": {},
   "source": [
    "Neste exemplo o menu é modificado dependendo da idade da pessoa. E como podemos verificar são executados vários comandos dentro do bloco do if e do else.  Rode  este exemplo, veja se informando diferentes idades ele mostra realmente os menus corretamente.\n",
    "\n",
    "<div class=\"alert alert-warning\" role=\"alert\" style=\"margin: 10px\">\n",
    "<b >Exercícios:</b>\n",
    "<ol>\n",
    "<li> Crie um programa que leia a nota de um aluno.  Se ele tirou mais de 6  mostre: APROVADO, caso contrário mostre REPROVADO.</li>\n",
    "<li> Crie um programa que leia o peso de uma pessoa. Caso a pessoa tenha mais de 100kG mostre que ela precisa emagrece, caso contrário diga que esta tudo ok </li>\n",
    "\n",
    "</ol>\n",
    "</div>\n",
    "\n",
    "Então vimos que podemos utilizar o else caso o valor passado ao if seja falso, com isso conseguimos tratar o caso negativo e criar dois caminhos diferentes no nosso programa. \n",
    "\n",
    "Entretanto, como podemos ver, o else não possui uma condição, e sempre que o if não for verdadeiro vai cair no bloco do else. Dependendo do caso isso pode ser ruim, por exemplo, imagine que queremos escrever uma lógica onde temos três condições diferentes para executarmos. Uma forma de resolver isso é utilizar o elif.\n",
    "\n",
    "### elif (else if, se não se)\n",
    "\n",
    "Muitas vezes precisaremos encadear várias condições de teste em um programa, para isso podemos juntar o comando else com o if. No python temos um comando que faz justamente isso para nós o elif (else + if). com ele podemos passar mais uma condição e realizar vários testes em sequencia. O elif segue a mesma ideia do if e do else. Caso a condição passada para ele seja verdadeira e executa seu bloco de código baseado no alinhamento.\n",
    "\n",
    "Exemplo:"
   ]
  },
  {
   "cell_type": "code",
   "execution_count": 25,
   "metadata": {
    "collapsed": false
   },
   "outputs": [
    {
     "name": "stdout",
     "output_type": "stream",
     "text": [
      "passagem inteira\n"
     ]
    }
   ],
   "source": [
    "idade = 30;\n",
    "if idade >= 65:\n",
    "    print \"passagem gratuida\"\n",
    "elif idade >= 18:\n",
    "    print \"passagem inteira\"\n",
    "else:\n",
    "    print \"meia passagem\""
   ]
  },
  {
   "cell_type": "markdown",
   "metadata": {},
   "source": [
    "Você notou que agora temos 3 faixas de testes?  Podemos utilizar o elif para criar inúmeros testes e assim criar diferentes desvios para nossos programas.\n",
    "\n",
    "Mais um exemplo:\n"
   ]
  },
  {
   "cell_type": "code",
   "execution_count": 26,
   "metadata": {
    "collapsed": false
   },
   "outputs": [
    {
     "name": "stdout",
     "output_type": "stream",
     "text": [
      "x maior que 0 e menor ou igual que 50\n"
     ]
    }
   ],
   "source": [
    "x = 44\n",
    "\n",
    "if x > 100:\n",
    "    print \"x maior que 100\"\n",
    "elif x > 50:\n",
    "    print \"x maior que 50 e menor ou igual que 100\"\n",
    "elif x > 0:\n",
    "    print \"x maior que 0 e menor ou igual que 50\"\n",
    "else:\n",
    "    print \"x menor ou igual que 0\""
   ]
  },
  {
   "cell_type": "markdown",
   "metadata": {},
   "source": [
    "Como podemos ver nos exemplos, podemos ecadear inumeros elifs para criar vários casos testes e assim criar diferentes desvios para nossos programas.  Entretato, como você pode notar nos exemplos, cada desvio possui apenas uma condição e dependendo do caso precisaremos testar duas ou mais coisas para seguir um caminho de desvio. Para realizar isso precisameros utilizar os operadores <b>E</b> e <b>OU</b>\n",
    "\n",
    "### Operadores and e or (operadores E e OU)\n",
    "\n",
    "Muitas vezes vamos querer combinar mais de um valor booleano para passar para nossos ifs ou elifs, para isso iremos utilizar os operadores and e or. Estes operadores combinam dois valores booleanos em um único, é importante ressaltar que cada um destes operadores combina os dois valores de formas diferentes. Vamos começar com o operador and.\n",
    "\n",
    "#### Operador ana\n",
    "\n",
    "O operador and combina dois valores booleanos, e apenas se ambos os valores forem veradeiros ele devolve verdadeiro, caso um dos valores seja falso ou ambos a saida vai ser sempre falsa.  No python usamos este operador escrevendo and sendo que temos que passar um valor booleano na esquerda e outro na direita.\n",
    "\n",
    "Exemplos:\n"
   ]
  },
  {
   "cell_type": "code",
   "execution_count": 27,
   "metadata": {
    "collapsed": false
   },
   "outputs": [
    {
     "data": {
      "text/plain": [
       "True"
      ]
     },
     "execution_count": 27,
     "metadata": {},
     "output_type": "execute_result"
    }
   ],
   "source": [
    "True and True"
   ]
  },
  {
   "cell_type": "code",
   "execution_count": 28,
   "metadata": {
    "collapsed": false
   },
   "outputs": [
    {
     "data": {
      "text/plain": [
       "False"
      ]
     },
     "execution_count": 28,
     "metadata": {},
     "output_type": "execute_result"
    }
   ],
   "source": [
    "True and False"
   ]
  },
  {
   "cell_type": "code",
   "execution_count": 29,
   "metadata": {
    "collapsed": false
   },
   "outputs": [
    {
     "data": {
      "text/plain": [
       "False"
      ]
     },
     "execution_count": 29,
     "metadata": {},
     "output_type": "execute_result"
    }
   ],
   "source": [
    "False and True"
   ]
  },
  {
   "cell_type": "code",
   "execution_count": 30,
   "metadata": {
    "collapsed": false
   },
   "outputs": [
    {
     "data": {
      "text/plain": [
       "False"
      ]
     },
     "execution_count": 30,
     "metadata": {},
     "output_type": "execute_result"
    }
   ],
   "source": [
    "False and False"
   ]
  },
  {
   "cell_type": "code",
   "execution_count": 31,
   "metadata": {
    "collapsed": false
   },
   "outputs": [
    {
     "data": {
      "text/plain": [
       "True"
      ]
     },
     "execution_count": 31,
     "metadata": {},
     "output_type": "execute_result"
    }
   ],
   "source": [
    "10 > 5 and (44 + 6) == 50"
   ]
  },
  {
   "cell_type": "code",
   "execution_count": 32,
   "metadata": {
    "collapsed": false
   },
   "outputs": [
    {
     "name": "stdout",
     "output_type": "stream",
     "text": [
      "False\n",
      "True\n"
     ]
    }
   ],
   "source": [
    "a = 50\n",
    "b = 55\n",
    "chato = True\n",
    "\n",
    "print a > b and chato\n",
    "print a < b and chato"
   ]
  },
  {
   "cell_type": "markdown",
   "metadata": {},
   "source": [
    "Como podemos observar, o operador and só devolve verdade se ambos os valores que passarmos para ele forem verdade. Mas e se quisemos que desse verdade se ao menos um dos valores for verdade ? Para isso temos o operador or\n",
    "\n",
    "#### Operador or\n",
    "\n",
    "O operador or, assim como o and, recebe dois valores booleanos e devolve um valor como saida. Entretanto, o operador or vai devolver verdadeiro sempre que um dos valores for verdadeiro ou ambos. Portanto só teremos false com o operador or caso ambos os valoreses sejam false.\n",
    "\n",
    "Exemplos:\n"
   ]
  },
  {
   "cell_type": "code",
   "execution_count": 33,
   "metadata": {
    "collapsed": false
   },
   "outputs": [
    {
     "data": {
      "text/plain": [
       "True"
      ]
     },
     "execution_count": 33,
     "metadata": {},
     "output_type": "execute_result"
    }
   ],
   "source": [
    "True or True"
   ]
  },
  {
   "cell_type": "code",
   "execution_count": 34,
   "metadata": {
    "collapsed": false
   },
   "outputs": [
    {
     "data": {
      "text/plain": [
       "True"
      ]
     },
     "execution_count": 34,
     "metadata": {},
     "output_type": "execute_result"
    }
   ],
   "source": [
    "True or False"
   ]
  },
  {
   "cell_type": "code",
   "execution_count": 35,
   "metadata": {
    "collapsed": false
   },
   "outputs": [
    {
     "data": {
      "text/plain": [
       "True"
      ]
     },
     "execution_count": 35,
     "metadata": {},
     "output_type": "execute_result"
    }
   ],
   "source": [
    "False or True"
   ]
  },
  {
   "cell_type": "code",
   "execution_count": 36,
   "metadata": {
    "collapsed": false
   },
   "outputs": [
    {
     "data": {
      "text/plain": [
       "False"
      ]
     },
     "execution_count": 36,
     "metadata": {},
     "output_type": "execute_result"
    }
   ],
   "source": [
    "False or False"
   ]
  },
  {
   "cell_type": "code",
   "execution_count": 37,
   "metadata": {
    "collapsed": false
   },
   "outputs": [
    {
     "data": {
      "text/plain": [
       "True"
      ]
     },
     "execution_count": 37,
     "metadata": {},
     "output_type": "execute_result"
    }
   ],
   "source": [
    "10 > 5 or (44 + 6) == 50"
   ]
  },
  {
   "cell_type": "code",
   "execution_count": 38,
   "metadata": {
    "collapsed": false
   },
   "outputs": [
    {
     "data": {
      "text/plain": [
       "True"
      ]
     },
     "execution_count": 38,
     "metadata": {},
     "output_type": "execute_result"
    }
   ],
   "source": [
    "10 < 5 or (44 + 6) == 50"
   ]
  },
  {
   "cell_type": "code",
   "execution_count": 39,
   "metadata": {
    "collapsed": false
   },
   "outputs": [
    {
     "data": {
      "text/plain": [
       "False"
      ]
     },
     "execution_count": 39,
     "metadata": {},
     "output_type": "execute_result"
    }
   ],
   "source": [
    "10 < 5 or (44 + 6) != 50"
   ]
  },
  {
   "cell_type": "code",
   "execution_count": 40,
   "metadata": {
    "collapsed": false
   },
   "outputs": [
    {
     "name": "stdout",
     "output_type": "stream",
     "text": [
      "True\n",
      "True\n"
     ]
    }
   ],
   "source": [
    "a = 50\n",
    "b = 55\n",
    "chato = True\n",
    "\n",
    "print a > b or chato\n",
    "print a < b or chato"
   ]
  },
  {
   "cell_type": "markdown",
   "metadata": {},
   "source": [
    "Como vimos a saida do or e do and sempre vai ser um valor booleano e portanto podemos utilziar eles em um if ou elif\n",
    "\n",
    "Exemplos:"
   ]
  },
  {
   "cell_type": "code",
   "execution_count": 41,
   "metadata": {
    "collapsed": false
   },
   "outputs": [
    {
     "name": "stdout",
     "output_type": "stream",
     "text": [
      "faixa etaria entre 30 e 65\n"
     ]
    }
   ],
   "source": [
    "idade = 40\n",
    "\n",
    "if idade >= 18 and idade < 30:\n",
    "    print \"faixa etaria entre 18 e 29\"\n",
    "elif idade >=30 and idade < 65:\n",
    "    print \"faixa etaria entre 30 e 65\"\n",
    "elif idade >= 65:\n",
    "    print \"faixa de 65 ou mais\"\n",
    "elif idade >=0 and idade < 18:\n",
    "    print \"faixa dos menores de idade\"\n",
    "elif idade > 150:\n",
    "    print \"idade invalida pois passa dos 150 anos\"\n",
    "else:\n",
    "    print \"idade invalida pois é negativa...\"\n",
    "    "
   ]
  },
  {
   "cell_type": "code",
   "execution_count": 42,
   "metadata": {
    "collapsed": false
   },
   "outputs": [
    {
     "name": "stdout",
     "output_type": "stream",
     "text": [
      "caso seja r ou f cai aqui\n"
     ]
    }
   ],
   "source": [
    "caractere = \"r\"\n",
    "\n",
    "if caractere == \"r\" or caractere == \"f\":\n",
    "    print \"caso seja r ou f cai aqui\"\n",
    "elif caractere == 'x' or caractere == 'y':\n",
    "    print \"caso seja x ou y cai aqui\"\n",
    "else:\n",
    "    print \"outro caractere que não é r ou f ou x ou y\""
   ]
  },
  {
   "cell_type": "markdown",
   "metadata": {},
   "source": [
    "Como podemos ver nos exemplos podemos usar o and ou or para realizar várias combinações diferentes.\n",
    "\n",
    "### operador not\n",
    "\n",
    "Algumas vezes poderemos inverter um valor booleano, ou seja, de true transformar em false ou o contrário. para isso temos o operador not.\n",
    "\n",
    "exemplos:\n"
   ]
  },
  {
   "cell_type": "code",
   "execution_count": 43,
   "metadata": {
    "collapsed": false
   },
   "outputs": [
    {
     "data": {
      "text/plain": [
       "False"
      ]
     },
     "execution_count": 43,
     "metadata": {},
     "output_type": "execute_result"
    }
   ],
   "source": [
    "not 10 > 5"
   ]
  },
  {
   "cell_type": "code",
   "execution_count": 44,
   "metadata": {
    "collapsed": false
   },
   "outputs": [
    {
     "data": {
      "text/plain": [
       "True"
      ]
     },
     "execution_count": 44,
     "metadata": {},
     "output_type": "execute_result"
    }
   ],
   "source": [
    "not 5 > 10"
   ]
  },
  {
   "cell_type": "code",
   "execution_count": 45,
   "metadata": {
    "collapsed": false
   },
   "outputs": [
    {
     "data": {
      "text/plain": [
       "False"
      ]
     },
     "execution_count": 45,
     "metadata": {},
     "output_type": "execute_result"
    }
   ],
   "source": [
    "chato = True\n",
    "not chato"
   ]
  },
  {
   "cell_type": "code",
   "execution_count": 46,
   "metadata": {
    "collapsed": false
   },
   "outputs": [
    {
     "name": "stdout",
     "output_type": "stream",
     "text": [
      "idade tem que ser maior que 18 ou não chato\n"
     ]
    }
   ],
   "source": [
    "chato = False\n",
    "idade = 5\n",
    "\n",
    "if idade > 18 or not chato:\n",
    "    print \"idade tem que ser maior que 18 ou não chato\"\n",
    "else:\n",
    "    print \"alguma coisa...\""
   ]
  },
  {
   "cell_type": "markdown",
   "metadata": {},
   "source": [
    "<div class=\"alert alert-warning\" role=\"alert\" style=\"margin: 10px\">\n",
    "<b >Exercícios:</b>\n",
    "<ol>\n",
    "\n",
    "<li> \n",
    "Escreva um programa que leia o peso e altura de uma pessoa. Calcule o IMC desta pessoa e mostre a classificação IMC da mesma:<br>\n",
    "\n",
    "IMC\tClassificação<br>\n",
    "< 16\tMagreza grave<br>\n",
    "16 a < 17\tMagreza moderada<br>\n",
    "17 a < 18,5\tMagreza leve<br>\n",
    "18,5 a < 25\tSaudável<br>\n",
    "25 a < 30\tSobrepeso<br>\n",
    "30 a < 35\tObesidade Grau I<br>\n",
    "35 a < 40\tObesidade Grau II (severa)<br>\n",
    "> 40\tObesidade Grau III (mórbida)<br>\n",
    "</li>\n",
    "\n",
    "</ol>\n",
    "</div>\n"
   ]
  },
  {
   "cell_type": "markdown",
   "metadata": {},
   "source": [
    "\n",
    "Este é o conteudo que precisamos para construirmos nossos programas com desvios. Agora vamos aos exercícios. =)"
   ]
  },
  {
   "cell_type": "code",
   "execution_count": null,
   "metadata": {
    "collapsed": true
   },
   "outputs": [],
   "source": []
  }
 ],
 "metadata": {
  "anaconda-cloud": {},
  "kernelspec": {
   "display_name": "Python [Root]",
   "language": "python",
   "name": "Python [Root]"
  },
  "language_info": {
   "codemirror_mode": {
    "name": "ipython",
    "version": 2
   },
   "file_extension": ".py",
   "mimetype": "text/x-python",
   "name": "python",
   "nbconvert_exporter": "python",
   "pygments_lexer": "ipython2",
   "version": "2.7.12"
  }
 },
 "nbformat": 4,
 "nbformat_minor": 0
}
