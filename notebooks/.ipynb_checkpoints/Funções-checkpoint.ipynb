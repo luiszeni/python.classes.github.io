{
 "cells": [
  {
   "cell_type": "markdown",
   "metadata": {},
   "source": [
    "### Introdução\n",
    "\n",
    "Uma função nada mais é que um bloco de código que recebe algumas entradas e devolve(ou não) alguma saída. Na realidade já estamos utilizando algumas funções desde que começamos a criar nossos primeiros programas em python. Alguns exemplos são as funções raw_input, print e sqrt.\n",
    "\n",
    "A grande vantagem de se utilizar funções é o reaproveitamento de código, pois uma vez que criarmos uma função de alguma rotina podemos chamar esta rotina sempre que precisarmos utilizando a função implementada. Na verdade, já fizemos isso inumeras vezes, por exemplo, sempre que usamos a função raw_input, estamos reaproveitando o código que mostra uma menssagem para o usuário, implementa a leitura de dados a partir do teclado e retorna o valor lido.\n",
    "\n",
    "Agora chegou o momento de criarmos as nossas funções. Mas antes, temos entender como funciona uma função.\n",
    "\n",
    "### Funções\n",
    "\n",
    "Podemos pensar numa função como uma pequena maquina, para a qual passamos alguns parâmetros de entrada  e ela nos retorna um resultado baseado nestas entradas processadas.\n",
    "\n",
    "Para criarmos uma função em python devemos definila, ou seja, devemos dizer quais são as entradas para esta função  o que ela deve fazer e o que deve retornar. Toda função vai ter um nome único, este nome é dado quando definimos a nossa função e o utilizamos sempre que queremos chamar esta função em algum lugar do nosso código.\n",
    "\n",
    "Criar ou definir uma função em python é muito simples, utilizamos a seguinte sintaxe:\n",
    "<pre> \n",
    "<b>def</b> nome_da_funcao(parametro1, parametro2, parametro3):\n",
    "    |\n",
    "    |Bloco da função, aqui vão todos os comandos desta função. \n",
    "    |No mesmo molde do if/for/etc...</pre>\n",
    "    \n",
    "A palavra <b>def</b> diz ao python que queremos definir uma função, já o nome da função é como queremos chama-la, os parâmetros de entrada são as variáveis que vão entrar para dentro do bloco da função(estas variaveis ficam acessiveis dentro da função) e o bloco da função é o código que sera executado apenas quando esta função for chamada.\n",
    "\n",
    "Exemplo:\n",
    "\n",
    "Queremos criar uma função que realiza uma soma de dos valores A e B. (obiviamente temos o operador + para isto, mas este exemplo é bem simples para uma melhor compreenção do aluno).\n",
    "\n",
    "O primeiro passo é definir a função:"
   ]
  },
  {
   "cell_type": "code",
   "execution_count": 1,
   "metadata": {
    "collapsed": true
   },
   "outputs": [],
   "source": [
    "def soma(A, B):\n",
    "    s = A + B\n",
    "    print \"A soma e: \"+ str(s)"
   ]
  },
  {
   "cell_type": "markdown",
   "metadata": {},
   "source": [
    "Uma vez que definimos nossa função é só utilizarmos quando for conveniente. Exemplos:"
   ]
  },
  {
   "cell_type": "code",
   "execution_count": 5,
   "metadata": {
    "collapsed": false
   },
   "outputs": [
    {
     "name": "stdout",
     "output_type": "stream",
     "text": [
      "A soma eh: 15\n",
      "A soma eh: 30\n",
      "A soma eh: -45\n"
     ]
    }
   ],
   "source": [
    "def soma(A, B):\n",
    "    s = A + B\n",
    "    print \"A soma eh: \"+ str(s)\n",
    "\n",
    "a = 10\n",
    "b = 5\n",
    "soma(a,b)\n",
    "soma(20,a)\n",
    "soma(55,-100)\n",
    "\n",
    "    "
   ]
  },
  {
   "cell_type": "markdown",
   "metadata": {},
   "source": [
    "Você notou que agora podemos utilizar várias vezes a função soma em nosso código? Bacana né? Este é o ponto forte de uma função, uma vez que a defenimos podemos chamar a mesma onde quisermos e reutilizar inúmeras vezes o mesmo código ou rotina. Mas agora você deve estar se perguntando: \"ok, a função recebe os parametros A e B e mostra a soma deles, mas e se eu quiser utilizar esta soma para alguma outro processamento?\". Para podermos utilizar algum valor que uma função processa devemos retornar este valor para fora da função.\n",
    "\n",
    "### Retorno de valores de uma função.\n",
    "\n",
    "Para retornarmos um valor de uma função devemos utilizar o comando <b>return</b> acompanhado do valor que devemos retornar. Vamos modificar o código do exemplo anterior para, em vez de imprimir o valor da soma, retornar este valor para fora da função.\n"
   ]
  },
  {
   "cell_type": "code",
   "execution_count": 10,
   "metadata": {
    "collapsed": false
   },
   "outputs": [
    {
     "name": "stdout",
     "output_type": "stream",
     "text": [
      "15\n",
      "17\n",
      "30\n"
     ]
    }
   ],
   "source": [
    "def soma(A, B):\n",
    "    s = A + B\n",
    "    return s\n",
    "\n",
    "a = 10\n",
    "b = 5\n",
    "\n",
    "soma(a,b) # nada acontece pois não estamos utilizando o valor retornado pela função\n",
    "c = soma(a,b)\n",
    "print c\n",
    "print c + 2\n",
    "print soma(20,a)\n"
   ]
  },
  {
   "cell_type": "markdown",
   "metadata": {},
   "source": [
    "Como você pode ver, agora nossa função, em vez de imprimir o valor da soma, retorna o valor e este pode ser utilizado fora da função.\n",
    "\n",
    "Vamos a mais um exemplo, imagine que queremos escrever um programa que necessita como entrada um numero positivo. Entretanto, em mais de um lugar será necessária esta leitura. Portanto podemos criar uma função que le o número positivo e retorna ele. Lembre que o usuário pode digitar um número que não é positivo, então iremos utilizar um while para ficar lendo enquanto o usuário não informar o número positivo."
   ]
  },
  {
   "cell_type": "code",
   "execution_count": 11,
   "metadata": {
    "collapsed": false
   },
   "outputs": [
    {
     "name": "stdout",
     "output_type": "stream",
     "text": [
      "Digite um numero positivo: -3\n",
      "Você não digitou um numero positivo, Digite um numero positivo: 0\n",
      "Você não digitou um numero positivo, Digite um numero positivo: 3\n",
      "imagine que aqui acontecem vários outros comandos no programa\n",
      "muitos mesmo\n",
      "depois disto precisamos novamente de um numero positivo\n",
      "Digite um numero positivo: 0\n",
      "Você não digitou um numero positivo, Digite um numero positivo: 0\n",
      "Você não digitou um numero positivo, Digite um numero positivo: 5\n"
     ]
    }
   ],
   "source": [
    "def lerNumeroPositivo():\n",
    "    numero = int(raw_input(\"Digite um numero positivo: \"))\n",
    "    while numero < 1:\n",
    "        numero = int(raw_input(\"Você não digitou um numero positivo, Digite um numero positivo: \"))\n",
    "    return numero\n",
    "\n",
    "num = lerNumeroPositivo()\n",
    "print \"imagine que aqui acontecem vários outros comandos no programa\"\n",
    "print \"muitos mesmo\"\n",
    "print \"depois disto precisamos novamente de um numero positivo\"\n",
    "b = lerNumeroPositivo()\n",
    "        "
   ]
  },
  {
   "cell_type": "markdown",
   "metadata": {},
   "source": [
    "Então podemos utilizar funções para tratar as entradas de nosso programa, o que é muito interessamte. Mais para frente iremos poder melhorar ainda mais isso com o uso de exceções. \n",
    "\n",
    "Você notou algo especial nesta função? \n",
    "\n",
    "Ela não possui nenhum parâmetro de entrada, e não tem problema pois podemos ter uma função que não recebe nada como entrada.\n",
    "\n",
    "Um outro conceito importante para você dominar em funções são as variáveis locais e globais.\n",
    "\n",
    "### Variáveis globais e locais\n",
    "\n",
    "Quando declaramos uma variável dentro de uma função, ou seja, dentro do bloco de código da mesma, esta variável vai pertencer a função e só existira e será acessível de dentro da função que a declarou. Chamamos este tipo de variável de <b>variável local</b>, pois ela só esta acessível e existirá dentro da função.\n",
    "\n",
    "Existe um outro tipo de variável que pode ser acessada em qualquer local do nosso código e dentro de qualquer função do mesmo. Este tipo de variável é chamado de <b>variável global</b>. Para declararmos uma variavel global é só declararmos a mesma fora da função e a mesma vai estar disponível para todas as funções do código.\n",
    "\n",
    "Exemplo:\n"
   ]
  },
  {
   "cell_type": "code",
   "execution_count": 1,
   "metadata": {
    "collapsed": false
   },
   "outputs": [
    {
     "name": "stdout",
     "output_type": "stream",
     "text": [
      "10\n",
      "12\n",
      "14\n",
      "16\n"
     ]
    }
   ],
   "source": [
    "uma_variavel_global = 10\n",
    "\n",
    "def funcao_que_soma():\n",
    "    uma_variavel_local = 2\n",
    "    return uma_variavel_local + uma_variavel_global\n",
    "    \n",
    "\n",
    "print uma_variavel_global\n",
    "uma_variavel_global = funcao_que_soma()\n",
    "print uma_variavel_global\n",
    "uma_variavel_global = funcao_que_soma()\n",
    "print uma_variavel_global\n",
    "uma_variavel_global = funcao_que_soma()\n",
    "print uma_variavel_global\n",
    "    "
   ]
  },
  {
   "cell_type": "markdown",
   "metadata": {},
   "source": [
    "Observe que no codigo anterir temos uma variavel declarado fora da função, a qual foi chamada de uma_variavel_global, ela inicialmente recebeu o valor 10.  Depois da função temos alguns prints, o primeiro imprime o valor da variavel  uma_variavel_global que, obiviamente, é 10. \n",
    "\n",
    "Na sequencia do código, temos que a variável uma_variavel_global recebe o resultado da função funcao_que_soma, portanto o valor desta vai ser alterado. Mas para qual valor ele será alterado?  Bom, é só olharmos dentro da função e ver o que ela faz. Basicamente a função cria uma variavel local chamada uma_variavel_local (lembre que esta variavel só vai existir dentro da função) com o valor 2  e retorna o a soma da uma_variavel_local com a variavel uma_variavel_global. Por isso que o segundo print, que imprime o valor de uma_variavel_global imprime 12. Observe que são chamados mais vezes o mesmo comando com a função e a cada novo print a variavel global tem seu valor alterado. \n",
    "\n",
    "Se tivermos outra função a variavel global também poderá ser acessada dela. \n",
    "\n",
    "Exemplo:\n"
   ]
  },
  {
   "cell_type": "code",
   "execution_count": 3,
   "metadata": {
    "collapsed": false
   },
   "outputs": [
    {
     "name": "stdout",
     "output_type": "stream",
     "text": [
      "10\n",
      "12\n",
      "7\n",
      "9\n"
     ]
    }
   ],
   "source": [
    "uma_variavel_global = 10\n",
    "\n",
    "def funcao_que_soma():\n",
    "    uma_variavel_local = 2\n",
    "    return uma_variavel_local + uma_variavel_global\n",
    "    \n",
    "def funcao_que_subtrai():\n",
    "    uma_variavel_local = 5\n",
    "    return uma_variavel_global - uma_variavel_local\n",
    "    \n",
    "    \n",
    "print uma_variavel_global\n",
    "uma_variavel_global = funcao_que_soma()\n",
    "print uma_variavel_global\n",
    "uma_variavel_global = funcao_que_subtrai()\n",
    "print uma_variavel_global\n",
    "uma_variavel_global = funcao_que_soma()\n",
    "print uma_variavel_global"
   ]
  },
  {
   "cell_type": "markdown",
   "metadata": {},
   "source": [
    "Observe que agora temos uma função chamada subtrai, que remove 5 do valor da variavel global e retorna o mesmo.\n",
    "\n",
    "Entretanto, como podemos ver nestes 2 exemplos anteriores, só estamos acessando o valor da variavel global, se tentarmos modificar a mesma dentro de uma função, teremos um erro ou o python não irá modificar o mesmo.\n",
    "\n",
    "Exemplo:"
   ]
  },
  {
   "cell_type": "code",
   "execution_count": 6,
   "metadata": {
    "collapsed": false
   },
   "outputs": [
    {
     "name": "stdout",
     "output_type": "stream",
     "text": [
      "5\n",
      "5\n"
     ]
    }
   ],
   "source": [
    "uma_variavel_global = 5\n",
    "\n",
    "def modifica_global():\n",
    "    uma_variavel_global = 10\n",
    "    \n",
    "\n",
    "print uma_variavel_global\n",
    "modifica_global()\n",
    "print uma_variavel_global\n"
   ]
  },
  {
   "cell_type": "markdown",
   "metadata": {},
   "source": [
    "A função modifica_global() muda o valor da uma_variavel_global para 10. Entretanto observe que nos prints o valor desta variavel não muda. Porque? \n",
    "\n",
    "Bom é muito simples,  ao ecrever  \"uma_variavel_global = 10\" o python entende que esta é a declaração de uma variavel local e portanto ela só pertece à função modifica_global, fazendo assim, com que a variavel global não seja modificada.\n",
    "\n",
    "Mas como modificamos uma variável global dentro de uma função?\n",
    "\n",
    "Simples, dizemos para o python que queremos que aquela variavel seja interpretada como global dentro da função usando a palavra <b>global</b>.\n",
    "\n",
    "Exemplo:"
   ]
  },
  {
   "cell_type": "code",
   "execution_count": 8,
   "metadata": {
    "collapsed": false
   },
   "outputs": [
    {
     "name": "stdout",
     "output_type": "stream",
     "text": [
      "5\n",
      "10\n"
     ]
    }
   ],
   "source": [
    "uma_variavel_global = 5\n",
    "\n",
    "def modifica_global():\n",
    "    global uma_variavel_global \n",
    "    uma_variavel_global = 10\n",
    "    \n",
    "\n",
    "print uma_variavel_global\n",
    "modifica_global()\n",
    "print uma_variavel_global"
   ]
  },
  {
   "cell_type": "markdown",
   "metadata": {},
   "source": [
    "Observe que agora o valor da variável uma_variavel_global foi modificado pela função.\n",
    "\n",
    "\n",
    "<div class=\"alert alert-warning\" role=\"alert\" style=\"margin: 10px\">\n",
    "<b style=\"color:red\">Dica Importante:</b> Evite o uso de variáveis globais, pois as mesmas podem criar um acoplamento/dependencia entre as funções de um código, o que pode dar muita dor de cabeça para o desenvolvedor.\n",
    "</div>\n",
    "\n",
    "\n",
    "### Parâmetros Opcionais em funções:\n",
    "\n",
    "No python podemos criar parâmetros Opcionais, ou seja, quem for utilizar esta função não é obrigado a informar estes parâmetros pois eles possuem um valor padrão. Entretanto, podemos modificar este valor caso seja desejado.\n",
    "\n",
    "Para criar um parâmetro opcional é só atribuir um valor ao parametro na função. É preferível que estes parâmetros sejam informados por ultimo na função para evitar a necessidade de nomeação dos mesmos.\n",
    "\n",
    "Exemplo:\n"
   ]
  },
  {
   "cell_type": "code",
   "execution_count": 16,
   "metadata": {
    "collapsed": false
   },
   "outputs": [
    {
     "name": "stdout",
     "output_type": "stream",
     "text": [
      "27\n",
      "27\n",
      "2 + 3 + 4 + 5 + 6 + 7 = 27\n"
     ]
    }
   ],
   "source": [
    "def somatorioEntreNumeros(inicio, fim, imprimir=False):\n",
    "    somatorio = 0\n",
    "    for i in range(inicio,fim+1):\n",
    "        somatorio = somatorio + i;\n",
    "        if imprimir:\n",
    "            if fim == i:#caso seja o ultimo numero\n",
    "                print str(i) + \" =\",\n",
    "            else:\n",
    "                print str(i) + \" +\"  ,\n",
    "\n",
    "    return somatorio\n",
    "\n",
    "\n",
    "print somatorioEntreNumeros(2,7)\n",
    "print somatorioEntreNumeros(2,7,False)\n",
    "print somatorioEntreNumeros(2,7,True)\n",
    "\n"
   ]
  },
  {
   "cell_type": "markdown",
   "metadata": {
    "collapsed": true
   },
   "source": [
    "Veja que o parâmetro  imprimir na definição da função  recebe o valor False, ou seja, o valor padrão desta variável de entrada vai ser False. Caso o usuário da função passe um valor para este parâmetro ele será modificado para um novo valor. Parâmetros opcionais funcionam com qualquer tipo de variável.\n",
    "\n",
    "### Nomeando parametros\n",
    "\n",
    "No python podemos nomear parametros que vamos passar para a função, desta forma  podemos mudar a ordem de entrada dos parametros da função, ou só informar alguns dos parâmetros opcionais. Para fazer isso é só informarmos o nome do parâmetro que desemos passar para a função na sua chamada.\n",
    "\n",
    "Exemplo:\n"
   ]
  },
  {
   "cell_type": "code",
   "execution_count": 19,
   "metadata": {
    "collapsed": false
   },
   "outputs": [
    {
     "name": "stdout",
     "output_type": "stream",
     "text": [
      "28\n",
      "27\n",
      "2 + 3 + 4 + 5 + 6 + 7 = 27\n",
      "14\n",
      "1 + 2 + 3 + 4 + 5 + 6 + 7 = 28\n"
     ]
    }
   ],
   "source": [
    "#observe que agora a variavel inicio virou opcional tbm.\n",
    "def somatorioEntreNumeros(fim, inicio=1 ,imprimir=False):\n",
    "    somatorio = 0\n",
    "    for i in range(inicio,fim+1):\n",
    "        somatorio = somatorio + i;\n",
    "        if imprimir:\n",
    "            if fim == i:#caso seja o ultimo numero\n",
    "                print str(i) + \" =\",\n",
    "            else:\n",
    "                print str(i) + \" +\"  ,\n",
    "\n",
    "    return somatorio\n",
    "\n",
    "\n",
    "print somatorioEntreNumeros(7)\n",
    "print somatorioEntreNumeros(7,2)\n",
    "print somatorioEntreNumeros(7,2,True)\n",
    "\n",
    "#aqui temos exemplos de nomeação\n",
    "print somatorioEntreNumeros(inicio=2, fim=5)\n",
    "print somatorioEntreNumeros(7, imprimir=True)\n",
    "\n"
   ]
  },
  {
   "cell_type": "markdown",
   "metadata": {},
   "source": [
    "Os recursos de parâmetros opcionais e nomeção possibilitam criar funçãoes bem mais genéricas e poderosas. Você vai ver bastante o uso destes recursos na sua evolução na liguagem python.\n",
    "\n",
    "Bom, agora já temos a parte teórica, vamos aos exercícios."
   ]
  },
  {
   "cell_type": "code",
   "execution_count": null,
   "metadata": {
    "collapsed": true
   },
   "outputs": [],
   "source": []
  }
 ],
 "metadata": {
  "kernelspec": {
   "display_name": "Python [Root]",
   "language": "python",
   "name": "Python [Root]"
  },
  "language_info": {
   "codemirror_mode": {
    "name": "ipython",
    "version": 2
   },
   "file_extension": ".py",
   "mimetype": "text/x-python",
   "name": "python",
   "nbconvert_exporter": "python",
   "pygments_lexer": "ipython2",
   "version": "2.7.12"
  }
 },
 "nbformat": 4,
 "nbformat_minor": 0
}
