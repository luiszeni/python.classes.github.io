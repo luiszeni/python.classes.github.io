{
 "cells": [
  {
   "cell_type": "markdown",
   "metadata": {},
   "source": [
    "### Classes e Objetos\n",
    "\n",
    "Neste capítulo iremos visitar uma breve introdução ao paradigma de orientação a objetos, ou seja, cobriremos apenas a pontinha do iceberg sobre orientação a objetos. É importante ressaltar antes de começarmos que iremos apenas ver conceitos bem básicos aqui neste capítulo e que este é um assunto que poderia cobrir um livro inteiro. \n",
    "\n",
    "#### O que iremos ver neste capítulo\n",
    "\n",
    "<ul>\n",
    "<li> O que é um objeto </li>\n",
    "<li> Como declarar uma classe </li>\n",
    "<li> Como instanciar e utilizar um objeto </li>\n",
    "</ul>\n",
    "\n",
    "#### O que não veremos neste capítulo\n",
    "\n",
    "<ul>\n",
    "<li> Herança </li>\n",
    "<li> Sobrecarga </li>\n",
    "<li> Polimorfismo </li>\n",
    "<li> Classes Abstratas </li>\n",
    "<li> Encapsulamento </li>\n",
    "</ul>\n",
    "\n",
    "Resalto aqui o que não iremos cobrir para que o aluno fique ciente que existe muito mais a aprender nete paradigma de programação.\n",
    "\n",
    "### O que é Orientação a Objetos\n",
    "\n",
    "O paradigma de orientação a objetos não é novo, já nos anos 1960 falava-se sobre alguns destes conceitos no MIT. Este paradigma de programação é bastante popular nos dias de hoje e é importante que um programador o conheça. Um objeto representa usualemnte uma abstração de algum objeto do mundo real. Portanto, quando falamos de um objeto, nos referimos a uma unidade auto contida, esta unidade, ou seja, o objeto vai possuir todos os dados e funcionalidades relacionadas com o objeto em questão. Alguns exemplos de objetos que podemos conceber: uma pessoa, um aluno, um Carro,  uma TV, uma fila de tratamento de prioridades, um robo, e assim por diante.\n",
    "\n",
    "Até o momento, temos trabalhados com os dados e as funções separadamente em nossos programas, ou seja, declaramos as variaveis em algum lugar e as funções em outro, e ambas são independentes uma das outras. Quando falamos de um objeto a ideia é que o objeto contenha seus proprios dados e suas propias funções, facilitando assim a organização e reutilização de código. Por exemplo, se criarmos um objeto que represente uma abstração de um carro, este objeto vai ter como dados informações a respeito deste carro, por exemplo, o modelo, a cor, quantidade de combustível, etc.. Além disto este objeto vai conter funções que este carro pode fazer, por exemplo, acelerar, freiar, abastecer, etc... Portanto toda vez que quisermos criar um objeto que represente um carro, iremos criar uma nova instancia do objeto carro, uma instancia é uma unidade de um objeto criada na memória do computador, e todas as instancias de um tipo de objeto vâo ter os mesmos tipos de dados e funções.\n",
    "\n",
    "Para o python, assim como para várias outras linguagens, para trabalharmos com objetos é necessário fornecer a \"planta\" de como este objeto deve ser construido, assim como na construção de uma casa. Esta \"planta\" é chamada de classe. Portanto, uma classe nada mais é que as especificações de como construir um objeto no python. Uma vez que construimos um objeto no python, temos uma isntancia deste objeto.\n",
    "\n",
    "### Definindo uma classe\n",
    "\n",
    "Para definirmos uma classe no python utilizamos a palavra reservada Class seguido do nome da classe(esse tbm vai ser o nome ou tipo do objeto). Por exemplo, se quisermos criar uma classe que represente um Carro no python, iremos escrever da seguinte forma:\n"
   ]
  },
  {
   "cell_type": "code",
   "execution_count": 1,
   "metadata": {
    "collapsed": false
   },
   "outputs": [
    {
     "ename": "SyntaxError",
     "evalue": "unexpected EOF while parsing (<ipython-input-1-7939d78b97fa>, line 1)",
     "output_type": "error",
     "traceback": [
      "\u001b[0;36m  File \u001b[0;32m\"<ipython-input-1-7939d78b97fa>\"\u001b[0;36m, line \u001b[0;32m1\u001b[0m\n\u001b[0;31m    class Carro():\u001b[0m\n\u001b[0m                  ^\u001b[0m\n\u001b[0;31mSyntaxError\u001b[0m\u001b[0;31m:\u001b[0m unexpected EOF while parsing\n"
     ]
    }
   ],
   "source": [
    "class Carro():"
   ]
  },
  {
   "cell_type": "markdown",
   "metadata": {},
   "source": [
    "Observe que a delcaração de uma classe é muito parecida com a de uma função, mas, em vez de utilizarmos def, utilizamos class. No exemplo anterior é gerado um erro pois o python espera que exista algo dentro da classe.\n",
    "\n",
    "Nosso primeiro passo vai ser definir como vai ser construido(inicializado) este objeto, e quais vão ser os atributos (variáveis que o mesmo vai guardar). Para indicar como o objeto deve ser construido em uma classe definimos dentro dela a função __init__, esta função diz para o python como o objeto deve ser criado. "
   ]
  },
  {
   "cell_type": "code",
   "execution_count": 2,
   "metadata": {
    "collapsed": true
   },
   "outputs": [],
   "source": [
    "class Carro():\n",
    "    def __init__(self):\n",
    "        self.modelo =\"Fusca\"\n",
    "        "
   ]
  },
  {
   "cell_type": "markdown",
   "metadata": {},
   "source": [
    "Como você pode ver a classe carro agora tem a função init, você notou que esta função recebe um parametro chamado self?  Este é um parametro especial, pois nele que armazenamos/recuperamos os dados de uma classe. Além disto cada instância de um objeto vai ter seu próprio self, pois cada instância pode ter valores diferentes. No exemplo anterior estamos definindo que o modelo do carro é um fusca. Observe que é a partir do self que fazemos esta atribuição.\n",
    "\n",
    "Ao rodarmos o código anterior nada acontece. Isso é pq só definimos como o objeto carro deve ser (por enquanto só com o modelo). Uma vez que temos a classe do objeto, podemos instanciar quantos objetos deste tipo quisermos. Para criarmos uma instancia da nossa classe é muito parecido com a criação de variaveis. Damos um nome para a variável e dizemos que queremos que ela seja do tipo da classe que definimos.\n",
    "\n",
    "Exemplo:"
   ]
  },
  {
   "cell_type": "code",
   "execution_count": 3,
   "metadata": {
    "collapsed": false
   },
   "outputs": [
    {
     "name": "stdout",
     "output_type": "stream",
     "text": [
      "Fusca\n",
      "Fusca\n"
     ]
    }
   ],
   "source": [
    "class Carro():\n",
    "    def __init__(self):\n",
    "        self.modelo =\"Fusca\"\n",
    "\n",
    "\n",
    "fusquinhaPreto = Carro()\n",
    "print fusquinhaPreto.modelo\n",
    "\n",
    "corola = Carro()\n",
    "print corola.modelo"
   ]
  },
  {
   "cell_type": "markdown",
   "metadata": {},
   "source": [
    "Observe que na linha ** fusquinhaPreto = Carro() **  estamos criando uma instancia deste objeto, na na linha a seguir imprimimos o modelo deste carro, que é um fusca. Entretanto, na sequencia criamos um corola, mas este quando imprimimos o seu modelo, apresneta que é um fusca. Isto se deve a forma como definimos o nosso __init__ da classe. Sempre associamos **fusca** ao modelo. Mas podemos mudar isso, mudando esta atributo de fusca para corola. Exemplo"
   ]
  },
  {
   "cell_type": "code",
   "execution_count": 4,
   "metadata": {
    "collapsed": false
   },
   "outputs": [
    {
     "name": "stdout",
     "output_type": "stream",
     "text": [
      "Fusca\n",
      "corola\n"
     ]
    }
   ],
   "source": [
    "class Carro():\n",
    "    def __init__(self):\n",
    "        self.modelo =\"Fusca\"\n",
    "\n",
    "\n",
    "fusquinhaPreto = Carro()\n",
    "print fusquinhaPreto.modelo\n",
    "\n",
    "corola = Carro()\n",
    "corola.modelo = \"corola\"\n",
    "print corola.modelo"
   ]
  },
  {
   "cell_type": "markdown",
   "metadata": {},
   "source": [
    "Observe que agora o modelo foi impresso corretamete, então, podemos mudar o atributo de um objeto depois que ele foi criado. Entretanto, esta não é a melhor forma de resolver este problema, eu mostrei desta forma para você saber que pode mudar os atributos de um objeto depois que ele foi criado. \n",
    "\n",
    "Uma forma mais interessante de dizer qual é o modelo do carro é indormar o modelo ao criar o objeto. Para isso é só passarmos isso por parâmetro na função __init__ Exemplo:\n"
   ]
  },
  {
   "cell_type": "code",
   "execution_count": 5,
   "metadata": {
    "collapsed": false
   },
   "outputs": [
    {
     "name": "stdout",
     "output_type": "stream",
     "text": [
      "fusca\n",
      "corola\n"
     ]
    }
   ],
   "source": [
    "class Carro():\n",
    "    def __init__(self, modelo):\n",
    "        self.modelo = modelo\n",
    "\n",
    "\n",
    "fusquinhaPreto = Carro(\"fusca\")\n",
    "print fusquinhaPreto.modelo\n",
    "\n",
    "corola = Carro(\"corola\")\n",
    "print corola.modelo"
   ]
  },
  {
   "cell_type": "markdown",
   "metadata": {},
   "source": [
    "O que fizemos de diferemte? Primeiro que na função __init__ estamos passando além do self o parâmetro modelo e este parâmetro é associado com o atributo associado a instancia do objeto. E segundo, ao construirmos o objeto informamos qual é o modelo do mesmo. Bem mais simples né? E agora podemos criar carros de diversos modelos. \n",
    "\n",
    "Mas e se quisermos adicionar mais atributos a cada objeto de um carro, por exemplo, cor, numero de passageiros, etc? Bom, é só seguir a mesma lógica: Exemplo:\n"
   ]
  },
  {
   "cell_type": "code",
   "execution_count": 6,
   "metadata": {
    "collapsed": false
   },
   "outputs": [
    {
     "name": "stdout",
     "output_type": "stream",
     "text": [
      "fusca preto 4\n",
      "corola prata 5\n"
     ]
    }
   ],
   "source": [
    "class Carro():\n",
    "    def __init__(self, modelo, cor, numeroDePassageiros):\n",
    "        self.modelo = modelo\n",
    "        self.cor = cor\n",
    "        self.numeroDePassageiros = int(numeroDePassageiros)\n",
    "\n",
    "fusquinhaPreto = Carro(\"fusca\",\"preto\",4)\n",
    "print fusquinhaPreto.modelo + \" \" + fusquinhaPreto.cor + \" \" + str(fusquinhaPreto.numeroDePassageiros) \n",
    "\n",
    "corola = Carro(\"corola\",\"prata\", 5)\n",
    "print corola.modelo + \" \" + corola.cor + \" \" + str(corola.numeroDePassageiros)"
   ]
  },
  {
   "cell_type": "markdown",
   "metadata": {},
   "source": [
    "Observe que agora ao criar um carro informamos todas as informações e podemos acessar e imprimir cada uma delas separadamente. Entretanto, você deve ter notado, é meio chato ter que repetir os mesmos comandos para imprimir o fusca e o corola, e a única coisa que muda entre as duas impressões é o nome do objeto. \n",
    "\n",
    "Lembra que anteriormente falamos que um objeto pode ter funções?  Então, podemos criar uma função dentro da classe que imprime todo o objeto, facilitando o reuso desta tarefa. Para fazer isso basicamente criamos uma função de imprimir dentro da classe carro. Exemplo:\n",
    "\n"
   ]
  },
  {
   "cell_type": "code",
   "execution_count": 7,
   "metadata": {
    "collapsed": false
   },
   "outputs": [
    {
     "name": "stdout",
     "output_type": "stream",
     "text": [
      "fusca preto 4\n",
      "corola prata 5\n"
     ]
    }
   ],
   "source": [
    "class Carro():\n",
    "    def __init__(self, modelo, cor, numeroDePassageiros):\n",
    "        self.modelo = modelo\n",
    "        self.cor = cor\n",
    "        self.numeroDePassageiros = int(numeroDePassageiros)\n",
    "    \n",
    "    def imprime(self):\n",
    "        print self.modelo + \" \" + self.cor + \" \" + str(self.numeroDePassageiros) \n",
    "\n",
    "fusquinhaPreto = Carro(\"fusca\",\"preto\",4)\n",
    "fusquinhaPreto.imprime()\n",
    "\n",
    "corola = Carro(\"corola\",\"prata\", 5)\n",
    "corola.imprime()"
   ]
  },
  {
   "cell_type": "markdown",
   "metadata": {},
   "source": [
    "Observe que agora para imprimirmos um objeto do tipo carro só precisamos chamar a função imprime. Bem mais facil certo?  É importante resaltar que a função imprime na classe carro recebe o parâmetro self tambem, e é de lá que saem os valores da isntancia de cada instância de carro diferente.\n",
    "\n",
    "Mas porque não posso simplemsnte fazer isso? **print fuscaPreto**, como já fazemos com listas e dicionários. Não podemos pois o python não sabe como imprimir este nosso objeto no terminal. Observe o que acontece se tentarmos fazer isso:"
   ]
  },
  {
   "cell_type": "code",
   "execution_count": 8,
   "metadata": {
    "collapsed": false
   },
   "outputs": [
    {
     "name": "stdout",
     "output_type": "stream",
     "text": [
      "<__main__.Carro instance at 0x7f1ab8792638>\n",
      "<__main__.Carro instance at 0x7f1ab8792bd8>\n"
     ]
    }
   ],
   "source": [
    "class Carro():\n",
    "    def __init__(self, modelo, cor, numeroDePassageiros):\n",
    "        self.modelo = modelo\n",
    "        self.cor = cor\n",
    "        self.numeroDePassageiros = int(numeroDePassageiros)\n",
    "    \n",
    "    def imprime(self):\n",
    "        print self.modelo + \" \" + self.cor + \" \" + str(self.numeroDePassageiros) \n",
    "\n",
    "fusquinhaPreto = Carro(\"fusca\",\"preto\",4)\n",
    "print fusquinhaPreto\n",
    "\n",
    "corola = Carro(\"corola\",\"prata\", 5)\n",
    "print corola"
   ]
  },
  {
   "cell_type": "markdown",
   "metadata": {},
   "source": [
    "O python imprime que é uma instancia de carro, em vez de imprimir seus dados. Isso pq o python não sabe como imprimir esta nossa classe, mas podemos ensina-lo. Para isso foi definido que o método \\_\\_ str \\_\\_ . Este método retorna uma string para o print dizendo como este objeto deve ser impresso.  Vamos mudar nosso imprime para se adecuar a isso."
   ]
  },
  {
   "cell_type": "code",
   "execution_count": 9,
   "metadata": {
    "collapsed": false
   },
   "outputs": [
    {
     "name": "stdout",
     "output_type": "stream",
     "text": [
      "fusca preto 4\n",
      "corola prata 5\n"
     ]
    }
   ],
   "source": [
    "class Carro():\n",
    "    def __init__(self, modelo, cor, numeroDePassageiros):\n",
    "        self.modelo = modelo\n",
    "        self.cor = cor\n",
    "        self.numeroDePassageiros = int(numeroDePassageiros)\n",
    "    \n",
    "    def __str__(self):\n",
    "        return self.modelo + \" \" + self.cor + \" \" + str(self.numeroDePassageiros) \n",
    "\n",
    "fusquinhaPreto = Carro(\"fusca\",\"preto\",4)\n",
    "print fusquinhaPreto\n",
    "\n",
    "corola = Carro(\"corola\",\"prata\", 5)\n",
    "print corola"
   ]
  },
  {
   "cell_type": "markdown",
   "metadata": {},
   "source": [
    "As unicas coisas que mudamos foi que agora em vez de imprime o método se chama \\_\\_str\\_\\_ e que em vez de ter um print dentro dele o mesmo retorna uma string. Pronto agora o python sabe como imprimir nossa classe. =)\n"
   ]
  },
  {
   "cell_type": "markdown",
   "metadata": {},
   "source": [
    "Nós podemos criar inumeras funções para um objeto, por exemplo, vamos criar agora funções para acelerar e freiar o carro, o que vai mudar a velocidade do carro."
   ]
  },
  {
   "cell_type": "code",
   "execution_count": 10,
   "metadata": {
    "collapsed": false
   },
   "outputs": [
    {
     "name": "stdout",
     "output_type": "stream",
     "text": [
      "0\n",
      "10\n",
      "30\n",
      "22\n"
     ]
    }
   ],
   "source": [
    "class Carro():\n",
    "    def __init__(self, modelo, cor, numeroDePassageiros):\n",
    "        self.modelo = modelo\n",
    "        self.cor = cor\n",
    "        self.numeroDePassageiros = int(numeroDePassageiros)\n",
    "        self.velocidade = 0\n",
    "        \n",
    "    def __str__(self):\n",
    "        return self.modelo + \" \" + self.cor + \" \" + str(self.numeroDePassageiros)\n",
    "    \n",
    "    def acelerar(self):\n",
    "        self.velocidade = self.velocidade + 10\n",
    "    \n",
    "    def freiar(self):\n",
    "        self.velocidade = self.velocidade - 8\n",
    "    \n",
    "    def mostrarVelocidade(self):\n",
    "        print self.velocidade\n",
    "        \n",
    "\n",
    "corola = Carro(\"corola\",\"prata\", 5)\n",
    "corola.mostrarVelocidade()\n",
    "corola.acelerar()\n",
    "corola.mostrarVelocidade()\n",
    "corola.acelerar()\n",
    "corola.acelerar()\n",
    "corola.mostrarVelocidade()\n",
    "corola.freiar()\n",
    "corola.mostrarVelocidade()\n",
    "\n",
    "\n"
   ]
  },
  {
   "cell_type": "markdown",
   "metadata": {},
   "source": [
    "Observe que agora podemos controlar a velocidade do carro acelerando ou freiando :). Este é o básico do básico que precisamos saber para trabalharmos com objetos. E é importante ressaltar que você precisará de muito mais estudo para dominar este parâdigma de programação.\n",
    "\n",
    "Agora vamos fazer alguns exemplos utilizando dicionarios e listas para armazenar objetos, e desta forma armazenar inúmeras instâncias de objetos. Para mudar um pouco vamos criar um cadastro de alunos.\n",
    "\n",
    "Primeiro criamos a classe aluno:"
   ]
  },
  {
   "cell_type": "code",
   "execution_count": 11,
   "metadata": {
    "collapsed": true
   },
   "outputs": [],
   "source": [
    "class Aluno():\n",
    "    def __init__(self,nome,idade,notaGA,notaGB):\n",
    "        self.nome = nome\n",
    "        self.idade = idade\n",
    "        self.notaGA = float(notaGA)\n",
    "        self.notaGB = float(notaGB)\n",
    "    \n",
    "    def notaFinal(self):\n",
    "        return (self.notaGA + 2 * self.notaGB)/3  \n",
    "    \n",
    "    def aprovado(self):\n",
    "        if self.notaFinal() >= 6:\n",
    "            return True\n",
    "        return False\n",
    "        \n",
    "    def __str__(self):\n",
    "        apr = \"Nao\"\n",
    "        if self.aprovado():\n",
    "            apr = \"Sim\"\n",
    "        return \"nome: \" + self.nome + \" idade: \" + str(self.idade) + \" Aprovado : \" + apr\n",
    "        \n",
    "        \n",
    "    "
   ]
  },
  {
   "cell_type": "markdown",
   "metadata": {},
   "source": [
    "Observe que o objeto aluno guarda o nom, idade e as notas do aluno. Como métodos temos um q calcula a nota final, outro que utiliza este método para dizer se o aluno esta aprovado e  finalmente o método que diz para o python como imprimir um aluno no terminal.\n",
    "\n",
    "Vamos testar se nossa classe funciona criando uma instancia de aluno."
   ]
  },
  {
   "cell_type": "code",
   "execution_count": 12,
   "metadata": {
    "collapsed": false
   },
   "outputs": [
    {
     "name": "stdout",
     "output_type": "stream",
     "text": [
      "nome: Felipe idade: 19 Aprovado : Sim\n"
     ]
    }
   ],
   "source": [
    "class Aluno():\n",
    "    def __init__(self,nome,idade,notaGA,notaGB):\n",
    "        self.nome = nome\n",
    "        self.idade = idade\n",
    "        self.notaGA = float(notaGA)\n",
    "        self.notaGB = float(notaGB)\n",
    "    \n",
    "    def notaFinal(self):\n",
    "        return (self.notaGA + 2 * self.notaGB)/3  \n",
    "    \n",
    "    def aprovado(self):\n",
    "        if self.notaFinal() >= 6:\n",
    "            return True\n",
    "        return False\n",
    "        \n",
    "    def __str__(self):\n",
    "        apr = \"Nao\"\n",
    "        if self.aprovado():\n",
    "            apr = \"Sim\"\n",
    "        return \"nome: \" + self.nome + \" idade: \" + str(self.idade) + \" Aprovado : \" + apr\n",
    "    \n",
    "aluno1 = Aluno(\"Felipe\", 19, 6.8, 8.0)\n",
    "print aluno1"
   ]
  },
  {
   "cell_type": "markdown",
   "metadata": {},
   "source": [
    "Legal, conseguimos criar um único aluno e ele, felizmente, esta aprovado.  Mas e se quisermos guardar inímeros alunos?  Bom, podemos fazer isso utilizando uma lista ou dicionário.  Vamos começar com uma lista:"
   ]
  },
  {
   "cell_type": "code",
   "execution_count": 13,
   "metadata": {
    "collapsed": false
   },
   "outputs": [
    {
     "name": "stdout",
     "output_type": "stream",
     "text": [
      "digite o nome do aluno ou sairJoao\n",
      "digite a idade do aluno12\n",
      "digite o ga do aluno4\n",
      "digite o gb do aluno8\n",
      "digite o nome do aluno ou sairMaria\n",
      "digite a idade do aluno10\n",
      "digite o ga do aluno7\n",
      "digite o gb do aluno8\n",
      "digite o nome do aluno ou sairFulana\n",
      "digite a idade do aluno4\n",
      "digite o ga do aluno7\n",
      "digite o gb do aluno3\n",
      "digite o nome do aluno ou sairsair\n",
      "nome: Joao idade: 12 Aprovado : Sim\n",
      "nome: Maria idade: 10 Aprovado : Sim\n",
      "nome: Fulana idade: 4 Aprovado : Nao\n"
     ]
    }
   ],
   "source": [
    "class Aluno():\n",
    "    def __init__(self,nome,idade,notaGA,notaGB):\n",
    "        self.nome = nome\n",
    "        self.idade = int(idade)\n",
    "        self.notaGA = float(notaGA)\n",
    "        self.notaGB = float(notaGB)\n",
    "    \n",
    "    def notaFinal(self):\n",
    "        return (self.notaGA + 2 * self.notaGB)/3  \n",
    "    \n",
    "    def aprovado(self):\n",
    "        if self.notaFinal() >= 6:\n",
    "            return True\n",
    "        return False\n",
    "        \n",
    "    def __str__(self):\n",
    "        apr = \"Nao\"\n",
    "        if self.aprovado():\n",
    "            apr = \"Sim\"\n",
    "        return \"nome: \" + self.nome + \" idade: \" + str(self.idade) + \" Aprovado : \" + apr\n",
    "    \n",
    "alunos = []\n",
    "#cadastra os alunos como objetos na lista\n",
    "while True:\n",
    "    nome = raw_input(\"digite o nome do aluno ou sair\")\n",
    "    if nome == \"sair\":\n",
    "        break\n",
    "    idade = int(raw_input(\"digite a idade do aluno\"))\n",
    "    ga = float(raw_input(\"digite o ga do aluno\"))\n",
    "    gb = float(raw_input(\"digite o gb do aluno\"))\n",
    "    novoAluno = Aluno(nome,idade,ga,gb)\n",
    "    alunos.append(novoAluno)\n",
    "    \n",
    "#Mostra os alunos na lista\n",
    "for aluno in alunos:\n",
    "    print aluno"
   ]
  },
  {
   "cell_type": "markdown",
   "metadata": {},
   "source": [
    "Observe que com objetos fica bem mais simples a manipulação. E o uso com listas fica muito interessante. Podemos também utilizar um dicionário, onde a chave pode ser o nome do aluno e o valor o objeto do aluno.\n",
    "\n",
    "Exemplo:\n"
   ]
  },
  {
   "cell_type": "code",
   "execution_count": null,
   "metadata": {
    "collapsed": true
   },
   "outputs": [],
   "source": [
    "class Aluno():\n",
    "    def __init__(self,nome,idade,notaGA,notaGB):\n",
    "        self.nome = nome\n",
    "        self.idade = int(idade)\n",
    "        self.notaGA = float(notaGA)\n",
    "        self.notaGB = float(notaGB)\n",
    "    \n",
    "    def notaFinal(self):\n",
    "        return (self.notaGA + 2 * self.notaGB)/3  \n",
    "    \n",
    "    def aprovado(self):\n",
    "        if self.notaFinal() >= 6:\n",
    "            return True\n",
    "        return False\n",
    "        \n",
    "    def __str__(self):\n",
    "        apr = \"Nao\"\n",
    "        if self.aprovado():\n",
    "            apr = \"Sim\"\n",
    "        return \"nome: \" + self.nome + \" idade: \" + str(self.idade) + \" Aprovado : \" + apr\n",
    "    \n",
    "alunos = {}\n",
    "#cadastra os alunos como objetos no dicionario\n",
    "while True:\n",
    "    nome = raw_input(\"digite o nome do aluno ou sair\")\n",
    "    if nome == \"sair\":\n",
    "        break\n",
    "    idade = int(raw_input(\"digite a idade do aluno\"))\n",
    "    ga = float(raw_input(\"digite o ga do aluno\"))\n",
    "    gb = float(raw_input(\"digite o gb do aluno\"))\n",
    "    novoAluno = Aluno(nome,idade,ga,gb)\n",
    "    alunos[nome] = novoAluno\n",
    "    \n",
    "#Mostra os alunos na lista\n",
    "for aluno in alunos:\n",
    "    print aluno"
   ]
  }
 ],
 "metadata": {
  "kernelspec": {
   "display_name": "Python 2",
   "language": "python",
   "name": "python2"
  },
  "language_info": {
   "codemirror_mode": {
    "name": "ipython",
    "version": 2
   },
   "file_extension": ".py",
   "mimetype": "text/x-python",
   "name": "python",
   "nbconvert_exporter": "python",
   "pygments_lexer": "ipython2",
   "version": "2.7.13"
  }
 },
 "nbformat": 4,
 "nbformat_minor": 2
}
