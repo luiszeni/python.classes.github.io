{
 "cells": [
  {
   "cell_type": "markdown",
   "metadata": {},
   "source": [
    "### Dicionários\n",
    "\n",
    "Dicionários funcionam de forma muito semelhante as listas, entretanto, em vez de trabalharmos com índicies numériocos e sequenciais, utilizamos uma chave. Esta chave serve tanto para adicionar um valor ao dicionário quanto para recuperar o mesmo do dicionário. Portanto podemos afirmar que um dicionário associa uma <b>CHAVE</b> a um <b>VALOR</b>. É importante ressaltar que a chave e o valor podem ser do tipo string, inteiro ou float. O valor também pode ser booleano ou uma lista.\n",
    "\n",
    "Exemplos de CHAVE : VALOR\n",
    "\n",
    "\"Marcio\"  : 3 <br>\n",
    "\"Ana\"     : 5 <br>\n",
    "\"Fabricio\": 9 <br>\n",
    "\"Júlia\"   : 1 <br>\n",
    "\n",
    "No exemplo anterior nome da pessoa é a chave e o número é um valor associado a aquela pessoa.\n",
    "\n",
    "A primeira vista os dicionários podem não parecer grande coisa, mas em alguns casos eles simplificam muito a implementação de alguns algorítmos, que seriam muito mais complexos de implementar se utilizássemos listas. \n",
    "\n",
    "Para representarmos a criação de um dicionário em python utilizamos as chaves <b>{}</b>. Potanto para criarmos um dicionário vazio, fazemos da seguinte forma: \n"
   ]
  },
  {
   "cell_type": "code",
   "execution_count": 5,
   "metadata": {
    "collapsed": false
   },
   "outputs": [
    {
     "name": "stdout",
     "output_type": "stream",
     "text": [
      "{}\n"
     ]
    }
   ],
   "source": [
    "cadastro = {}\n",
    "print cadastro"
   ]
  },
  {
   "cell_type": "markdown",
   "metadata": {},
   "source": [
    "Como podes checar, é muito semelhante a criação de uma variável comum ou uma lista, damos um nome ao dicionário e usamos as chaves para indicar que é um dicionário para o python. Como não tem chaves dentro do dicionário o python mostra apenas as chaves quando tentamos imprimir o dicionário.\n",
    "\n",
    "Para adicionar itêns ao nosso dicionário de cadastro, temos que associar cada chave ao seu valor utilizando <b>:</b> (dois pontos) para separar o nome da chave e o valor associaldo à mesma.\n",
    "\n",
    "Exemplo:"
   ]
  },
  {
   "cell_type": "code",
   "execution_count": 4,
   "metadata": {
    "collapsed": false
   },
   "outputs": [
    {
     "name": "stdout",
     "output_type": "stream",
     "text": [
      "{'Marcio': 3, 'Ana': 5, 'Julia': 1, 'Fabricio': 9}\n"
     ]
    }
   ],
   "source": [
    "cadastro = {\"Marcio\":3, \"Ana\":5, \"Fabricio\":9, \"Julia\":1}\n",
    "print cadastro"
   ]
  },
  {
   "cell_type": "markdown",
   "metadata": {},
   "source": [
    "Agora temos um dicionário com alguns itêns dentro dele. Para recuperarmos o valor associado a alguma das pessoas no dicionário podemos utilizar a chave (neste caso o nome) de cada indivíduo. Este acesso é muito parecido com as listas, utilizamos os colchetes, mas em vez de informarmos o índice, informamos a chave.\n",
    "\n",
    "Exemplo:"
   ]
  },
  {
   "cell_type": "code",
   "execution_count": 6,
   "metadata": {
    "collapsed": false
   },
   "outputs": [
    {
     "name": "stdout",
     "output_type": "stream",
     "text": [
      "3\n",
      "9\n"
     ]
    }
   ],
   "source": [
    "cadastro = {\"Marcio\":3, \"Ana\":5, \"Fabricio\":9, \"Julia\":1}\n",
    "print cadastro[\"Marcio\"]\n",
    "print cadastro[\"Fabricio\"]"
   ]
  },
  {
   "cell_type": "markdown",
   "metadata": {},
   "source": [
    "Veja que interessante, agora podemos recuperar a quantidade de cada pessoa utilizando o seu nome (chave). Mas e se quisermos alterar o valor associado a esta chave? \n",
    "\n",
    "Para alterar um valor associado a uma chave utilizamos a mesma sintaxe das listas, com o colchetes, só que em vez do indíce utilizamos a chave. Outro fato interessante é que podemos adicionar novos elementos no dicionário utilizando esta sintaxe, coisa que não funciona com listas (temos que utilizar o append).\n",
    "\n",
    "Exemplos:\n"
   ]
  },
  {
   "cell_type": "code",
   "execution_count": 7,
   "metadata": {
    "collapsed": false
   },
   "outputs": [
    {
     "name": "stdout",
     "output_type": "stream",
     "text": [
      "{'Marcio': 3, 'Ana': 5, 'Julia': 1, 'Fabricio': 9}\n",
      "{'Marcio': 10, 'Joana': 5, 'Ana': 5, 'Julia': 1, 'Fabricio': 9}\n"
     ]
    }
   ],
   "source": [
    "cadastro = {\"Marcio\":3, \"Ana\":5, \"Fabricio\":9, \"Julia\":1}\n",
    "print cadastro\n",
    "cadastro[\"Marcio\"] = 10\n",
    "cadastro[\"Joana\"] = 5\n",
    "print cadastro\n"
   ]
  },
  {
   "cell_type": "markdown",
   "metadata": {},
   "source": [
    "Como podemos ver o Marcio teve seu valor alterado para 10 e a Joana foi adicionada ao dicionário posteriormente. Ambos utilizando a mesma sintaxe.\n",
    "\n",
    "Mas e se eu quiser varer todo o dicionario para, por exemplo, porcessar todos os itens presentes nele? Bom, para isso podemos utilizar o for:"
   ]
  },
  {
   "cell_type": "code",
   "execution_count": 11,
   "metadata": {
    "collapsed": false
   },
   "outputs": [
    {
     "name": "stdout",
     "output_type": "stream",
     "text": [
      "Marcio\n",
      "Ana\n",
      "Julia\n",
      "Fabricio\n"
     ]
    }
   ],
   "source": [
    "cadastro = {\"Marcio\":3, \"Ana\":5, \"Fabricio\":9, \"Julia\":1}\n",
    "for chave in cadastro:\n",
    "    print chave"
   ]
  },
  {
   "cell_type": "markdown",
   "metadata": {},
   "source": [
    "Com o for podemos iterar sobre cada chave do dicionário. E com isso temos cada uma das chaves a cada iteração, e se quisermos pegar o valor de cada chave é só chamar o dicionario com ela:"
   ]
  },
  {
   "cell_type": "code",
   "execution_count": 13,
   "metadata": {
    "collapsed": false
   },
   "outputs": [
    {
     "name": "stdout",
     "output_type": "stream",
     "text": [
      "A Chave: Marcio tem o valor: 3\n",
      "A Chave: Ana tem o valor: 5\n",
      "A Chave: Julia tem o valor: 1\n",
      "A Chave: Fabricio tem o valor: 9\n"
     ]
    }
   ],
   "source": [
    "cadastro = {\"Marcio\":3, \"Ana\":5, \"Fabricio\":9, \"Julia\":1}\n",
    "for chave in cadastro:\n",
    "    print \"A Chave: \" + chave + \" tem o valor: \" + str(cadastro[chave])"
   ]
  },
  {
   "cell_type": "markdown",
   "metadata": {},
   "source": [
    "Como podemos ver pelos exemplos, os dicionários são muito parecidos com as listas,  podemos adicionar novos itêns, podemos iterar sobre eles, podemos remover... remover? Sim podemos vermover um item de um dicionario. Para isso, utilizamos a palavra <b>del</b>.\n",
    "\n",
    "Exemplo:"
   ]
  },
  {
   "cell_type": "code",
   "execution_count": 15,
   "metadata": {
    "collapsed": false
   },
   "outputs": [
    {
     "name": "stdout",
     "output_type": "stream",
     "text": [
      "{'Marcio': 3, 'Ana': 5, 'Julia': 1, 'Fabricio': 9}\n",
      "{'Ana': 5, 'Julia': 1, 'Fabricio': 9}\n"
     ]
    }
   ],
   "source": [
    "cadastro = {\"Marcio\":3, \"Ana\":5, \"Fabricio\":9, \"Julia\":1}\n",
    "print cadastro\n",
    "del cadastro[\"Marcio\"]\n",
    "print cadastro"
   ]
  },
  {
   "cell_type": "markdown",
   "metadata": {},
   "source": [
    "A remoção de itêns em um dicionário é muito tranquilia. Como não temos indices, outra coisa que podemos fazer é checar se uma chave existe no dicionário. Para isso utilizamos a palavra <b> in </b>:"
   ]
  },
  {
   "cell_type": "code",
   "execution_count": 16,
   "metadata": {
    "collapsed": false
   },
   "outputs": [
    {
     "name": "stdout",
     "output_type": "stream",
     "text": [
      "True\n",
      "False\n"
     ]
    }
   ],
   "source": [
    "cadastro = {\"Marcio\":3, \"Ana\":5, \"Fabricio\":9, \"Julia\":1}\n",
    "print \"Marcio\" in cadastro\n",
    "del cadastro[\"Marcio\"]\n",
    "print \"Marcio\" in cadastro"
   ]
  },
  {
   "cell_type": "markdown",
   "metadata": {},
   "source": [
    "O comando in retorna True quando a chave esta no dicionário e False quando não. Observe que isso poderia ser utilizado em um if para tomar algum tipo de decisão ou em um while para ser o controle de alguma repetição.\n",
    "\n",
    "Vamos a um exemplo mais concreto?  Você lembra do exercício 7 da Lista do capítulo 4 ?  Mas especificamente este:\n",
    "\n",
    "Escreva um programa que leia n números. Depois da leitura mostre a quantidade de cada número lido. Ex:\n",
    "Leu [ 5, 6, 8, 5, 6, 7]\n",
    "Mostrar 5 = 2, 6 = 2, 8 = 1, 7 = 1\n",
    "\n",
    "Então, com dicionários é muito simples de resolver este exercício. =)\n",
    "\n",
    "Solução:\n"
   ]
  },
  {
   "cell_type": "code",
   "execution_count": 24,
   "metadata": {
    "collapsed": false
   },
   "outputs": [
    {
     "name": "stdout",
     "output_type": "stream",
     "text": [
      "digite um número ou sair: 1\n",
      "digite um número ou sair: 2\n",
      "digite um número ou sair: 1\n",
      "digite um número ou sair: 2\n",
      "digite um número ou sair: 3\n",
      "digite um número ou sair: 1\n",
      "digite um número ou sair: 2\n",
      "digite um número ou sair: sair\n",
      "Foram lidos: [1, 2, 1, 2, 3, 1, 2]\n",
      "1 = 3\n",
      "2 = 3\n",
      "3 = 1\n"
     ]
    }
   ],
   "source": [
    "numeros = [] #cria uma lista vazia.\n",
    "\n",
    "#Le os N números\n",
    "c = \"\"\n",
    "while c != \"sair\":\n",
    "    c = raw_input(\"digite um número ou sair: \")\n",
    "    if c != 'sair':\n",
    "        numeros.append(int(c))\n",
    "\n",
    "print \"Foram lidos: \" +  str(numeros)\n",
    "\n",
    "quantidades = {} #cria um dicionário vazio, a chave será o número contado e o valor a quantidade.\n",
    "\n",
    "for n in numeros:\n",
    "    if n in quantidades: #caso já exista a chave, só incrementa o valor dela\n",
    "        quantidades[n] = quantidades[n] + 1\n",
    "    else: # caso não exista, a chave recebe 1 e é criada\n",
    "        quantidades[n] = 1\n",
    "        \n",
    "#mostra a quantidade de cada número\n",
    "\n",
    "for q in quantidades:\n",
    "    print str(q) +  \" = \" + str(quantidades[q])     \n",
    "        "
   ]
  },
  {
   "cell_type": "markdown",
   "metadata": {},
   "source": [
    "Bem mais simples né? Como podemos ver neste exemplo, a chave pode ser um número inteiro também. Os dicionários permitem que coloquemos listas como valor. Para isso é só atribuir uma lista a uma chave.  Vamos a um exemplo, digamos que queremos guardar duas notas de cada aluno e seu nome:"
   ]
  },
  {
   "cell_type": "code",
   "execution_count": 25,
   "metadata": {
    "collapsed": false
   },
   "outputs": [
    {
     "name": "stdout",
     "output_type": "stream",
     "text": [
      "digite o nome do aluno: Ana\n",
      "digite a nota 1 do aluno Ana: 10\n",
      "digite a nota 2 do aluno Ana: 3\n",
      "digite o nome do aluno: Julia\n",
      "digite a nota 1 do aluno Julia: 3\n",
      "digite a nota 2 do aluno Julia: 4\n",
      "digite o nome do aluno: Vitor\n",
      "digite a nota 1 do aluno Vitor: 1\n",
      "digite a nota 2 do aluno Vitor: 2\n",
      "digite o nome do aluno: Claudio\n",
      "digite a nota 1 do aluno Claudio: 0\n",
      "digite a nota 2 do aluno Claudio: 4\n",
      "digite o nome do aluno: Joelson\n",
      "digite a nota 1 do aluno Joelson: 4\n",
      "digite a nota 2 do aluno Joelson: 8\n",
      "o aluno Joelson tem as notas: [4, 8]\n",
      "o aluno Claudio tem as notas: [0, 4]\n",
      "o aluno Ana tem as notas: [10, 3]\n",
      "o aluno Julia tem as notas: [3, 4]\n",
      "o aluno Vitor tem as notas: [1, 2]\n"
     ]
    }
   ],
   "source": [
    "alunos = {}\n",
    "\n",
    "for i in range(0,5):\n",
    "    nome = raw_input(\"digite o nome do aluno: \")\n",
    "    n1 = int(raw_input(\"digite a nota 1 do aluno \" + nome + \": \"))\n",
    "    n2 = int(raw_input(\"digite a nota 2 do aluno \" + nome + \": \"))\n",
    "    alunos[nome] = [n1, n2] #cria a chave com o nome e associa as duas notas ao mesmo dentro de uma lista\n",
    "    \n",
    "for a in alunos:\n",
    "    print \"o aluno \" + a + \" tem as notas: \" + str(alunos[a])"
   ]
  },
  {
   "cell_type": "markdown",
   "metadata": {},
   "source": [
    "Os dicionários aceitam como valor qualquer tipo de dado, incluindo as listas!  E, tambem podemos incluir um dicionário dentro de um valor. !!!\n",
    "\n",
    "Exemplo:"
   ]
  },
  {
   "cell_type": "code",
   "execution_count": 31,
   "metadata": {
    "collapsed": false
   },
   "outputs": [
    {
     "name": "stdout",
     "output_type": "stream",
     "text": [
      "digite o nome do cliente: ana\n",
      "digite o produto ou sair: banana\n",
      "digite a quantidade comprada de banana: 1\n",
      "digite o produto ou sair: maca\n",
      "digite a quantidade comprada de maca: 2\n",
      "digite o produto ou sair: sair\n",
      "digite o nome do cliente: vitor\n",
      "digite o produto ou sair: bacon\n",
      "digite a quantidade comprada de bacon: 1\n",
      "digite o produto ou sair: bacon\n",
      "digite a quantidade comprada de bacon: 1\n",
      "digite o produto ou sair: costela\n",
      "digite a quantidade comprada de costela: 1\n",
      "digite o produto ou sair: carvao\n",
      "digite a quantidade comprada de carvao: 1\n",
      "digite o produto ou sair: sair\n",
      "digite o nome do cliente: bleturnio\n",
      "digite o produto ou sair: cerveja\n",
      "digite a quantidade comprada de cerveja: 5\n",
      "digite o produto ou sair: arroz\n",
      "digite a quantidade comprada de arroz: 1\n",
      "digite o produto ou sair: sair\n",
      "o cliente bleturnio comprou:\n",
      "1x arroz\n",
      "5x cerveja\n",
      "o cliente ana comprou:\n",
      "1x banana\n",
      "2x maca\n",
      "o cliente vitor comprou:\n",
      "1x costela\n",
      "1x bacon\n",
      "1x carvao\n"
     ]
    }
   ],
   "source": [
    "clientes = {}\n",
    "\n",
    "for i in range(0,3):\n",
    "    nome = raw_input(\"digite o nome do cliente: \")\n",
    "    \n",
    "    compras = {}\n",
    "    \n",
    "    c = \"\"\n",
    "    while c != \"sair\":\n",
    "        c = raw_input(\"digite o produto ou sair: \")\n",
    "        if c != 'sair':\n",
    "            compras[c] = int(raw_input(\"digite a quantidade comprada de \" + str(c) + \": \"))\n",
    "            \n",
    "    clientes[nome] = compras\n",
    "    \n",
    "for c in clientes:\n",
    "    print \"o cliente \" + c + \" comprou:\"\n",
    "    \n",
    "    compras = clientes[c]\n",
    "    \n",
    "    for compra in compras:\n",
    "        print  str(compras[compra]) + \"x \" + compra"
   ]
  },
  {
   "cell_type": "markdown",
   "metadata": {},
   "source": [
    "Outros comandos que podem ser úteis em dicionários:\n",
    "\n",
    "1- para obter as chaves de um dicionário podemos utilizar a função .keys()\n",
    "2- para obter os valores de um dicionário podemos utilizar a função .values()\n",
    "\n",
    "Exemplo"
   ]
  },
  {
   "cell_type": "code",
   "execution_count": null,
   "metadata": {
    "collapsed": true
   },
   "outputs": [],
   "source": [
    "sabeProgramar = {\"Marcia\":True, \"Vitor\":False, \"Claudio\":True}\n",
    "\n",
    "print sabeProgramar.keys()\n",
    "print sabeProgramar.values()"
   ]
  }
 ],
 "metadata": {
  "kernelspec": {
   "display_name": "Python 2",
   "language": "python",
   "name": "python2"
  },
  "language_info": {
   "codemirror_mode": {
    "name": "ipython",
    "version": 2
   },
   "file_extension": ".py",
   "mimetype": "text/x-python",
   "name": "python",
   "nbconvert_exporter": "python",
   "pygments_lexer": "ipython2",
   "version": "2.7.13"
  }
 },
 "nbformat": 4,
 "nbformat_minor": 2
}
