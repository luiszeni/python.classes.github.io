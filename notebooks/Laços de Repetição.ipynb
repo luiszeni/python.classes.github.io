{
 "cells": [
  {
   "cell_type": "markdown",
   "metadata": {},
   "source": [
    "### Introdução\n",
    "\n",
    "Você ja notou que os programas que escrevemos até agora não rodam continuamente? Ou que para repetir um comando 20 vezes precisamos escreve-lo 20 vezes também? Isto pode ser um problema quando queremos escrever um programa que funcione continuamente ou que repita x comandos N vezes. Para resolver este problema podemos utilizar os laços de repetição. \n",
    "\n",
    "Um laço de repetição é uma estrutura que repte vários comandos enquanto uma condição é verdadeira. Assim como um if, um laço possui um bloco de código, este bloco vai repetir N vezes dada uma condição que passamos para este laço. Em python temos dois tipos de lacos de repetição: o while e o for.\n",
    "\n",
    "### laço while (enquanto)\n",
    "\n",
    "o laço while funciona de maneira muito semelhante ao if. Enquanto um valor booleano passado para ele for verdadeiro ele fica repetindo o seu bloco de código. Então temos a seguinte forma: <b>while <span style=\"color:red\">valor_booleano</span>:</b>.\n",
    "\n",
    "<div class=\"alert alert-warning\" role=\"alert\" style=\"margin: 10px\">\n",
    "<b style=\"color:red\">Dica Importante:</b> Temos que ter cuidado ao confecionarmos nossos whiles, pois se o falor booleano passado para ele for sempre verdade ele nunca vai parar de executar e se for sempre falso ele nunca vai executar. Uma forma de realizar este controle é utilizar uma variavel contadora.\n",
    "</div>\n",
    "\n",
    "#### Variáveis contadoras.\n",
    "\n",
    "Uma variavel contadora serve para contar o número de iterações que um laço já executou, e podemos utiliza-la em conjunto com a condição do while. O uso comum da variável contadora será: \n",
    "\n",
    "1- inicializar ela com algum valor antes do laço de repetição; <br>\n",
    "2- utilizar ela como condição no laço (critério de parada); <br>\n",
    "3- incrementa-la/ou decrementa-la a cada repetição dentro do bloco de código do laço;\n",
    "\n",
    "Exemplo:"
   ]
  },
  {
   "cell_type": "code",
   "execution_count": 1,
   "metadata": {
    "collapsed": false
   },
   "outputs": [
    {
     "name": "stdout",
     "output_type": "stream",
     "text": [
      "executando!  contador tem valor0\n",
      "executando!  contador tem valor1\n",
      "executando!  contador tem valor2\n",
      "executando!  contador tem valor3\n",
      "executando!  contador tem valor4\n"
     ]
    }
   ],
   "source": [
    "contador = 0;\n",
    "while contador < 5:\n",
    "    print \"executando!  contador tem valor\" + str(contador)\n",
    "    contador = contador + 1 #incremento do contador"
   ]
  },
  {
   "cell_type": "markdown",
   "metadata": {},
   "source": [
    "O que temos no código anterior?  \n",
    "<ol>\n",
    "<li>inicializamos a variavel contadora com um valor, no caso vamos começar a contar de 0</li>\n",
    "<li>while(enquanto) a variavel contadora for menor que cinco vai repetir o bloco de código do while</li>\n",
    "<li>print que mostra uma mensagem e o valor do contador antes de incrementar</li>\n",
    "<li>incrementa o contador</li>\n",
    "<li> volta a linha 2, realiza novamente o teste, se verdade, repete mais uma vez o bloco, se não para.</li>\n",
    "</ol>\n",
    "\n",
    "\n",
    "Bacana né? temos um código que repete 5 vezes o mesmo código. Mas e se quissemos criar valores decrescentes ? Por exemplo de 4 até 0."
   ]
  },
  {
   "cell_type": "code",
   "execution_count": 2,
   "metadata": {
    "collapsed": false
   },
   "outputs": [
    {
     "name": "stdout",
     "output_type": "stream",
     "text": [
      "executando!  contador tem valor4\n",
      "executando!  contador tem valor3\n",
      "executando!  contador tem valor2\n",
      "executando!  contador tem valor1\n",
      "executando!  contador tem valor0\n"
     ]
    }
   ],
   "source": [
    "contador = 4;\n",
    "while contador >= 0:\n",
    "    print \"executando!  contador tem valor\" + str(contador)\n",
    "    contador = contador - 1 #decremento do contador"
   ]
  },
  {
   "cell_type": "markdown",
   "metadata": {},
   "source": [
    "Viu como é simples?  Basicamente colocamos o valor de inicio do contador,  mudamos a condição do while para parar quando o contador for menor que zero e agora em vez de aumentar o contador diminui.\n",
    "\n",
    "Podemos criar outros tipos de condições para o while? Claro, lembre o while recebe um valor booleano. Portanto, podemos passar para ele uma variavel booleana ou outros tipos de condições de comparação.\n",
    "\n",
    "Vamos fazer um exemplo onde, equanto o usuário não digitar sair, repete o laço:"
   ]
  },
  {
   "cell_type": "code",
   "execution_count": 3,
   "metadata": {
    "collapsed": false
   },
   "outputs": [
    {
     "name": "stdout",
     "output_type": "stream",
     "text": [
      "digite um comando: oi\n",
      "digite um comando: teste\n",
      "digite um comando: sair\n"
     ]
    }
   ],
   "source": [
    "repetir = True #incializamos a variavel repetir com true para repetir ao menos uma vez\n",
    "\n",
    "#enquanto a variavel repetir for true vai repetir\n",
    "while repetir:\n",
    "    comando = raw_input(\"digite um comando: \") #captura um comando do usuario\n",
    "    if comando == \"sair\": # se o comando for sair\n",
    "        repetir = False; # para de repetir\n",
    "    \n",
    "    \n",
    "    "
   ]
  },
  {
   "cell_type": "markdown",
   "metadata": {},
   "source": [
    "Viu  como é versátil o uso do while? Muitas vezes vamos precisar acumular valores para calcular um somatorio ou outros tipos de calculos em sequencia. Para isso, usualmente em conjunto com uma variável contadora, utilizamos uma variavel acumuladora.\n",
    "\n",
    "#### Variáveis acumuladoras\n",
    "\n",
    "Uma variavel acumuladora é uma variavel que vai acumulando valores durante as iterações de um laço, ela pode ser utili para, por exeplo, somar todos os valores de um intervalo ou de uma lista (veremos isso mais para frente).\n",
    "\n",
    "Exemplo calculando o somatorio de 1 à 10:"
   ]
  },
  {
   "cell_type": "code",
   "execution_count": 4,
   "metadata": {
    "collapsed": false
   },
   "outputs": [
    {
     "name": "stdout",
     "output_type": "stream",
     "text": [
      "a soma eh: 55\n"
     ]
    }
   ],
   "source": [
    "contador = 1\n",
    "acumulador = 0 #iniciamos nosso acumulador em 0 \n",
    "\n",
    "while contador <= 10:\n",
    "    acumulador = acumulador + contador; # acumula no acumulador cada novo valor do contador\n",
    "    contador = contador + 1\n",
    "\n",
    "print \"a soma eh: \" + str(acumulador)\n",
    "    "
   ]
  },
  {
   "cell_type": "markdown",
   "metadata": {},
   "source": [
    "A variavel aculadora vai acumulado dentro dela cada novo valor do cantador, desta forma temos o somatório ao final\n",
    "\n",
    "### comando de interrupção\n",
    "\n",
    "Algumas vezes vai ser necessario interroper o laço de repetição sem utilizar a codição do while. Para realizar essa interrupção utilziamos o comando break, o qual interrompe o laço sempre que é encontrado.\n",
    "\n",
    "Exemplo:\n",
    "\n"
   ]
  },
  {
   "cell_type": "code",
   "execution_count": 5,
   "metadata": {
    "collapsed": false
   },
   "outputs": [
    {
     "name": "stdout",
     "output_type": "stream",
     "text": [
      "digite o comando numerico5\n",
      "digite o comando numerico5\n",
      "digite o comando numerico4\n",
      "digite o comando numerico2\n",
      "digite o comando numerico1\n",
      "digite o comando numerico0\n"
     ]
    }
   ],
   "source": [
    "comando = 9;\n",
    "\n",
    "while comando != 10:\n",
    "    comando = int(raw_input(\"digite o comando numerico\"))\n",
    "    if comando == 0:\n",
    "        break;"
   ]
  },
  {
   "cell_type": "markdown",
   "metadata": {},
   "source": [
    "Viu que agora temos duas formas de sair do laço? ou quando a condição do while deixa de ser verdade ou quando o usuario digita 0, o que executa o break.\n",
    "\n",
    "\n",
    "### comando de ir para proxima iteração\n",
    "\n",
    "Muitas vezes, em vez de parar de executar o laco, podemos querer que ele pare de executar a iteraçào atual e pule para a proxima. Para isso utilizamos o comando continue.\n",
    "\n",
    "Exemplo:\n"
   ]
  },
  {
   "cell_type": "code",
   "execution_count": 6,
   "metadata": {
    "collapsed": false
   },
   "outputs": [
    {
     "name": "stdout",
     "output_type": "stream",
     "text": [
      "1\n",
      "3\n",
      "5\n",
      "7\n",
      "9\n"
     ]
    }
   ],
   "source": [
    "cont = 0;\n",
    "\n",
    "while cont < 10:\n",
    "    \n",
    "    cont = cont + 1\n",
    "    \n",
    "    if cont%2==0:\n",
    "        continue;\n",
    "        \n",
    "    print cont\n",
    "   "
   ]
  },
  {
   "cell_type": "markdown",
   "metadata": {},
   "source": [
    "Viu que o programa a seguir só imprimiu os valores impares? Isso se da pelo uso do continue no if, ele interrompe a execução da iteração atual e vai para a proxima.\n",
    "\n",
    "\n",
    "### laços de repetição aninhados:\n",
    "\n",
    "Uma grande duvida do pessoal que esta iniciando é:  posso usar um laço de repetição dentro de outro?\n",
    "\n",
    "A resposta é claro. Vamos ver um exemplo:\n"
   ]
  },
  {
   "cell_type": "code",
   "execution_count": 7,
   "metadata": {
    "collapsed": false
   },
   "outputs": [
    {
     "name": "stdout",
     "output_type": "stream",
     "text": [
      "0\n",
      "2\n",
      "4\n",
      "1\n",
      "3\n",
      "5\n",
      "2\n",
      "4\n",
      "6\n",
      "3\n",
      "5\n",
      "7\n",
      "4\n",
      "6\n",
      "8\n",
      "5\n",
      "7\n",
      "9\n",
      "6\n",
      "8\n",
      "10\n",
      "7\n",
      "9\n",
      "11\n",
      "8\n",
      "10\n",
      "12\n",
      "9\n",
      "11\n",
      "13\n"
     ]
    }
   ],
   "source": [
    "cont1 = 0\n",
    "while cont1 < 10:\n",
    "    cont2 = 0\n",
    "    while cont2 < 5:\n",
    "        print cont1 + cont2\n",
    "        cont2 = cont2 + 2\n",
    "    cont1 = cont1 + 1"
   ]
  },
  {
   "cell_type": "markdown",
   "metadata": {
    "collapsed": true
   },
   "source": [
    "Bacana, não? Isso abre uma gama de possibilidades para nossos programas.\n",
    "\n",
    "Mas e o laço for professor?\n",
    "\n",
    "### O laço for (para)\n",
    "\n",
    "O laço for (para cada) no python segue a ideia de executar uma iteração para cada objeto passado para ele. Ele será muito util para quando quisermos iterar sobre valores ou objetos em uma lista. Entretanto podemos passar para o for um conjunto de valores para ele iterar. Desta forma com o for  não é preciso criar uma variavel contadora.\n",
    "\n",
    "Exemplo:\n",
    "\n"
   ]
  },
  {
   "cell_type": "code",
   "execution_count": 8,
   "metadata": {
    "collapsed": false
   },
   "outputs": [
    {
     "name": "stdout",
     "output_type": "stream",
     "text": [
      "1\n",
      "2\n",
      "3\n",
      "4\n"
     ]
    }
   ],
   "source": [
    "for i in range(1,5):\n",
    "    print i"
   ]
  },
  {
   "cell_type": "markdown",
   "metadata": {},
   "source": [
    "Observe que o for executou valores diferentes para a variavel i (contadora) que estão no range (alcance) de 1 e à 4. Bem mais simples que o while né?  Mas observe que para usarmos o for, <u>precisamos saber o numero de iterações que vão ser executadas</u>.  \n",
    "\n",
    "Os comandos break e continue também são validos para o for.\n",
    "\n",
    "Mais para frente vamos ver como o for se encaixa perfeitamente com listas, por enquanto, vamos praticar os lacos de repetição com os exercícios. =)."
   ]
  },
  {
   "cell_type": "code",
   "execution_count": null,
   "metadata": {
    "collapsed": true
   },
   "outputs": [],
   "source": []
  }
 ],
 "metadata": {
  "kernelspec": {
   "display_name": "Python [Root]",
   "language": "python",
   "name": "Python [Root]"
  },
  "language_info": {
   "codemirror_mode": {
    "name": "ipython",
    "version": 2
   },
   "file_extension": ".py",
   "mimetype": "text/x-python",
   "name": "python",
   "nbconvert_exporter": "python",
   "pygments_lexer": "ipython2",
   "version": "2.7.12"
  }
 },
 "nbformat": 4,
 "nbformat_minor": 0
}
