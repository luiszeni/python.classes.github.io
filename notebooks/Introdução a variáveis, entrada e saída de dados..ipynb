{
 "cells": [
  {
   "cell_type": "markdown",
   "metadata": {},
   "source": [
    "### Introdução\n",
    "Neste capitulo iremos trabalhar os conceitos e comandos mais simples que precisamos conhecer para escrevermos nossos programas.\n",
    "\n",
    "### Variáveis\n",
    "\n",
    "Uma variável pode ser compreendida como um local na memória do computador onde pode-se armazenar algum tipo de dado. Por exemplo, diamos que foi lido um valor numérico do teclado e quer-se armazenar este valor para se utilizar posterirormente para algum tipo de calculo, neste caso o uso de uma variável se dá necessário.\n",
    "\n",
    "Uma variável sempre tera assossiado com ela tres informações: um nome que a indentifica, um valor armazenado e um tipo de dado. O nome de uma variável é utilizado para nos referirmos a esta variavel, por exemplo quando queremos recuperar ou modificar o valor da variável utilizamos seu nome. O valor armazenado é o que a variável esta armazenando no momento, este valor pode ser modificado e recuperado a qualquer momento no programa. Já o tipo de dado que a váriavel armazena significa a especie de dado que esta armazenado dentro desta variável, por exemplo: um número intero, um número decimal, texto, etc.\n",
    "\n",
    "Declarando(criando) uma variável em python:\n",
    "\n",
    "Para declararmos uma variável em python é muito simples. utilizamos a seguinte forma:  <b>NOME_VARIAVEL</b> = <b>VALOR</b>\n",
    "\n",
    "Alguns exemplos:\n"
   ]
  },
  {
   "cell_type": "code",
   "execution_count": 1,
   "metadata": {
    "collapsed": true
   },
   "outputs": [],
   "source": [
    "idade = 25"
   ]
  },
  {
   "cell_type": "code",
   "execution_count": 2,
   "metadata": {
    "collapsed": true
   },
   "outputs": [],
   "source": [
    "valorEmReais = 6.55"
   ]
  },
  {
   "cell_type": "code",
   "execution_count": 3,
   "metadata": {
    "collapsed": true
   },
   "outputs": [],
   "source": [
    "nomeDoJogador = \"Luis Felipe\""
   ]
  },
  {
   "cell_type": "code",
   "execution_count": 4,
   "metadata": {
    "collapsed": true
   },
   "outputs": [],
   "source": [
    "mensagem = 'O sistema requer uma tigela de sorvete para continuar funcionando'"
   ]
  },
  {
   "cell_type": "markdown",
   "metadata": {},
   "source": [
    "<div class=\"alert alert-warning\" role=\"alert\" style=\"margin: 10px\">\n",
    "<b style=\"color:red\">Dica Importante:</b> Você pode testar estes comandos no interpretador do python (vide o capítulo de ambiente de desnvolvimento caso tenhas duvidas).\n",
    "</div>\n",
    "\n",
    "<div class=\"alert alert-warning\" role=\"alert\" style=\"margin: 10px\">\n",
    "<b style=\"color:red\">Regras para a criação de nomes de variáves:</b> Uma variável nunca deve conter espaços em branco, para isso utilize um underline ( _ ). variáveis devem sempre começar com um caractere de letra ou _. Evite utilizar caracteres especiais e acentuação.\n",
    "</div>"
   ]
  },
  {
   "cell_type": "markdown",
   "metadata": {},
   "source": [
    "Você notou que os comandos criam diferentes tipos de váriaveis?  \n",
    "\n",
    "No primeiro comando <b style=\"color:blue\">[1]</b> estamos criando uma variavel que armazena valores inteiros. Já a segunda variável <b style=\"color:blue\">[2]</b> armazena valores decimais, você notou que a virgula é representada por um '.' (ponto)? No python, e na maioria das linguagens de programação se segue o padrão numérico americano(sim,  utiliza-se ponto no lugar da virgula). Já nos exeplos 3 e 4  temos variáveis que armazenam texto, voce notou que ambos os textos estão dentro de aspas duplas ou simples? Para o python não confundir o texto com variáveis temos que identificar para ele quando estamos trabalhando com testo, <u>portanto todo texto que estiver dentro de aspas (duplas ou simples) vai ser entendido como texto. </u>\n"
   ]
  },
  {
   "cell_type": "markdown",
   "metadata": {},
   "source": [
    "Se você olhar no explorador de variáveis do Spyder, vai notar que temos as variáveis criadas, com os valores atribuidos e também temos um tipo assossiado a cada uma delas. O que são estes tipos? São o tipo de informação que é armazenada dentro de cada variável."
   ]
  },
  {
   "cell_type": "markdown",
   "metadata": {},
   "source": [
    "Existem inúmeros tipos de dados em python. Por enquanto vamos conhecer estes 3 tipos:\n",
    "<style type=\"text/css\">\n",
    ".tg  {border-collapse:collapse;border-spacing:0;}\n",
    ".tg td{font-family:Arial, sans-serif;font-size:14px;padding:10px 5px;border-style:solid;border-width:1px;overflow:hidden;word-break:normal;}\n",
    ".tg th{font-family:Arial, sans-serif;font-size:14px;font-weight:normal;padding:10px 5px;border-style:solid;border-width:1px;overflow:hidden;word-break:normal;}\n",
    ".tg .tg-yw4l{vertical-align:top}\n",
    "</style>\n",
    "<table class=\"tg\" style=\"undefined;table-layout: fixed; width: 489px\">\n",
    "<colgroup>\n",
    "<col style=\"width: 93px\">\n",
    "<col style=\"width: 195px\">\n",
    "<col style=\"width: 201px\">\n",
    "</colgroup>\n",
    "  <tr>\n",
    "    <th class=\"tg-031e\">Tipo de dado</th>\n",
    "    <th class=\"tg-yw4l\">Tipo de valores armazenados</th>\n",
    "    <th class=\"tg-yw4l\">exemplos<br></th>\n",
    "  </tr>\n",
    "  <tr>\n",
    "    <td class=\"tg-031e\">int</td>\n",
    "    <td class=\"tg-yw4l\">Armazena valores numéricos inteiros na memória do computador</td>\n",
    "    <td class=\"tg-yw4l\">0, -1, 33, 667</td>\n",
    "  </tr>\n",
    "  <tr>\n",
    "    <td class=\"tg-yw4l\">float</td>\n",
    "    <td class=\"tg-yw4l\">Armazena valores numéricos decimais na memória do computador</td>\n",
    "    <td class=\"tg-yw4l\">0.6, 4.567, 3.14</td>\n",
    "  </tr>\n",
    "  <tr>\n",
    "    <td class=\"tg-031e\">str</td>\n",
    "    <td class=\"tg-yw4l\">Armazena texto. </td>\n",
    "    <td class=\"tg-yw4l\">\"Oi mundo\", 'Luis', 'X', \"Crocodilo falante\"</td>\n",
    "  </tr>\n",
    "</table>\n"
   ]
  },
  {
   "cell_type": "markdown",
   "metadata": {},
   "source": [
    "<div class=\"alert alert-warning\" role=\"alert\" style=\"margin: 10px\">\n",
    "<b >Exercícios:</b>\n",
    "<ol>\n",
    "<li> Crie uma variável que armazene o valor de pi. </li>\n",
    "<li> Crie uma varíavel que armazene o valor de R$ 203.56  reais.</li>\n",
    "<li> Crie uma varíavel que guarde o seu nome.</li>\n",
    "<li> Crie uma variável que guarde um parágrafo do seu livro favorito.</li>\n",
    "</ol>\n",
    "</div>\n"
   ]
  },
  {
   "cell_type": "markdown",
   "metadata": {},
   "source": [
    "<b>Operações aritiméticas:</b>\n",
    "\n",
    "Com os operadores aritméticos conseguimos fazer as operações mais simples da matemática. Por exemplo, somar dois números, divir um numero por outro ou montar uma equação. Em python temos os seugintes operadores aritméticos:\n",
    "\n",
    "<style type=\"text/css\">\n",
    ".tg  {border-collapse:collapse;border-spacing:0;}\n",
    ".tg td{font-family:Arial, sans-serif;font-size:14px;padding:10px 5px;border-style:solid;border-width:1px;overflow:hidden;word-break:normal;}\n",
    ".tg th{font-family:Arial, sans-serif;font-size:14px;font-weight:normal;padding:10px 5px;border-style:solid;border-width:1px;overflow:hidden;word-break:normal;}\n",
    ".tg .tg-yw4l{vertical-align:top}\n",
    "</style>\n",
    "<table class=\"tg\" style=\"undefined;table-layout: fixed; width: 344px\">\n",
    "<colgroup>\n",
    "<col style=\"width: 112px\">\n",
    "<col style=\"width: 232px\">\n",
    "</colgroup>\n",
    "  <tr>\n",
    "    <th class=\"tg-031e\">Operador</th>\n",
    "    <th class=\"tg-yw4l\">Função</th>\n",
    "  </tr>\n",
    "  <tr>\n",
    "    <td class=\"tg-031e\">+</td>\n",
    "    <td class=\"tg-yw4l\">soma</td>\n",
    "  </tr>\n",
    "  <tr>\n",
    "    <td class=\"tg-yw4l\">-</td>\n",
    "    <td class=\"tg-yw4l\">subtração</td>\n",
    "  </tr>\n",
    "  <tr>\n",
    "    <td class=\"tg-yw4l\">*</td>\n",
    "    <td class=\"tg-yw4l\">multiplicação</td>\n",
    "  </tr>\n",
    "  <tr>\n",
    "    <td class=\"tg-yw4l\">**</td>\n",
    "    <td class=\"tg-yw4l\">exponeciação</td>\n",
    "  </tr>\n",
    "  <tr>\n",
    "    <td class=\"tg-yw4l\">/</td>\n",
    "    <td class=\"tg-yw4l\">divisão</td>\n",
    "  </tr>\n",
    "  <tr>\n",
    "    <td class=\"tg-031e\">%</td>\n",
    "    <td class=\"tg-yw4l\">resto da divisão</td>\n",
    "  </tr>\n",
    "</table>\n",
    "\n",
    "<div class=\"alert alert-warning\" role=\"alert\" style=\"margin: 10px\">\n",
    "<b style=\"color:red\">Cuidado!</b> a ordem das operações segue as regras que usamos na resolução de equações, caso seja necessario forçar que uma operação aconteça antes de outra utilize parenteses.</div>\n",
    "\n",
    "Alguns exemplos:"
   ]
  },
  {
   "cell_type": "code",
   "execution_count": 5,
   "metadata": {
    "collapsed": false
   },
   "outputs": [
    {
     "data": {
      "text/plain": [
       "2"
      ]
     },
     "execution_count": 5,
     "metadata": {},
     "output_type": "execute_result"
    }
   ],
   "source": [
    "1 + 1"
   ]
  },
  {
   "cell_type": "code",
   "execution_count": 6,
   "metadata": {
    "collapsed": false
   },
   "outputs": [
    {
     "data": {
      "text/plain": [
       "4.0"
      ]
     },
     "execution_count": 6,
     "metadata": {},
     "output_type": "execute_result"
    }
   ],
   "source": [
    "A = 2\n",
    "A / 0.5"
   ]
  },
  {
   "cell_type": "code",
   "execution_count": 7,
   "metadata": {
    "collapsed": false
   },
   "outputs": [
    {
     "data": {
      "text/plain": [
       "5"
      ]
     },
     "execution_count": 7,
     "metadata": {},
     "output_type": "execute_result"
    }
   ],
   "source": [
    "#como são utilizados apenas valores inteiros nesta divisão, o resultado é inteiro.\n",
    "A = 6\n",
    "B = 5\n",
    "C = (A + B)/2\n",
    "C"
   ]
  },
  {
   "cell_type": "code",
   "execution_count": 8,
   "metadata": {
    "collapsed": false
   },
   "outputs": [
    {
     "data": {
      "text/plain": [
       "289"
      ]
     },
     "execution_count": 8,
     "metadata": {},
     "output_type": "execute_result"
    }
   ],
   "source": [
    "(10 - 2)**2 + (30 - 15)**2"
   ]
  },
  {
   "cell_type": "markdown",
   "metadata": {},
   "source": [
    "<div class=\"alert alert-warning\" role=\"alert\" style=\"margin: 10px\">\n",
    "<b >Exercícios:</b>\n",
    "<ol>\n",
    "<li> calcule a média de 5 e 7 </li>\n",
    "<li> calcule a soma dos valores 5 + 6 + 7  e armazene na variavel com nome SOMA</li>\n",
    "<li> Divida um valor por zero (o que acontece?)</li>\n",
    "<li> Calcule o valor de  2<sup>32</sup> e armazene em uma váriavel</li>\n",
    "</ol>\n",
    "</div>"
   ]
  },
  {
   "cell_type": "markdown",
   "metadata": {},
   "source": [
    "<b>Comentários em python:</b>\n",
    "\n",
    "Muitas vezes podemos querer comentar um trecho de código ou um bloco de código, um comentário pode ser utilizado para documentar, explicar ou até mesmo para ocultar um código em um script.\n",
    "\n",
    "Um comentário serve muitas vezes para explicarmos uma parte complexa de código para outro desenvolvedor que for ver nosso código no futuro, ou até nós memsmos.\n",
    "\n",
    "Para criar um comentário de linha em python utilizamos o jogo da velha #  seguido do comentário"
   ]
  },
  {
   "cell_type": "code",
   "execution_count": 9,
   "metadata": {
    "collapsed": true
   },
   "outputs": [],
   "source": [
    "#Este é um exemplo de comentário em linha\n",
    "x = 30 # x=40\n",
    "#Observe que só é comentada a linha em que o hash esta, e apenas depois do hash(jogo da velha)"
   ]
  },
  {
   "cell_type": "markdown",
   "metadata": {},
   "source": [
    "Para criar um comentário em bloco utilizamos três aspas simples para abrir o bloco de comentário e três aspas simples para fechar."
   ]
  },
  {
   "cell_type": "code",
   "execution_count": 10,
   "metadata": {
    "collapsed": false,
    "scrolled": true
   },
   "outputs": [],
   "source": [
    "'''\n",
    "Aqui temos um\n",
    "exemplo\n",
    "de\n",
    "um belo comentario em bloco\n",
    "'''\n",
    "x = 33\n"
   ]
  },
  {
   "cell_type": "markdown",
   "metadata": {},
   "source": [
    "<b>Conversão de tipos de dados:</b>\n",
    "\n",
    "Em alguns momentos é necessario converter o tipo de dado de uma variavel para outro tipo.  Por exemplo, converter um texto para número intero ou um número decimal para texto. \n",
    "\n",
    "A conversão entre tipos em python é muito simples. Utilizamos o nome do tipo de dado para o qual queremos converter e passamos o dado que queremos que seja converitdo . Portanto sempre seguiremos a seguinte forma:  \n",
    "\n",
    "tipo_que_sera_converido(dado_a_ser_convertido)\n",
    "\n",
    "Exemplos:"
   ]
  },
  {
   "cell_type": "code",
   "execution_count": 11,
   "metadata": {
    "collapsed": false
   },
   "outputs": [
    {
     "data": {
      "text/plain": [
       "'4'"
      ]
     },
     "execution_count": 11,
     "metadata": {},
     "output_type": "execute_result"
    }
   ],
   "source": [
    "A = 4\n",
    "A = str(A) #converte A de int para str e armazena de volta em A\n",
    "A"
   ]
  },
  {
   "cell_type": "code",
   "execution_count": 12,
   "metadata": {
    "collapsed": false
   },
   "outputs": [
    {
     "data": {
      "text/plain": [
       "'55'"
      ]
     },
     "execution_count": 12,
     "metadata": {},
     "output_type": "execute_result"
    }
   ],
   "source": [
    "B = \"55\"\n",
    "numero = int(B)\n",
    "B"
   ]
  },
  {
   "cell_type": "code",
   "execution_count": 13,
   "metadata": {
    "collapsed": false
   },
   "outputs": [
    {
     "ename": "ValueError",
     "evalue": "invalid literal for int() with base 10: 'Algum texto'",
     "output_type": "error",
     "traceback": [
      "\u001b[0;31m---------------------------------------------------------------------------\u001b[0m",
      "\u001b[0;31mValueError\u001b[0m                                Traceback (most recent call last)",
      "\u001b[0;32m<ipython-input-13-75764614ebc7>\u001b[0m in \u001b[0;36m<module>\u001b[0;34m()\u001b[0m\n\u001b[1;32m      1\u001b[0m \u001b[0mtextoEntrada\u001b[0m \u001b[0;34m=\u001b[0m \u001b[0;34m\"Algum texto\"\u001b[0m\u001b[0;34m\u001b[0m\u001b[0m\n\u001b[0;32m----> 2\u001b[0;31m \u001b[0mnumero\u001b[0m \u001b[0;34m=\u001b[0m \u001b[0mint\u001b[0m\u001b[0;34m(\u001b[0m\u001b[0mtextoEntrada\u001b[0m\u001b[0;34m)\u001b[0m\u001b[0;34m\u001b[0m\u001b[0m\n\u001b[0m\u001b[1;32m      3\u001b[0m ''' observe que a segunda linha gerará um erro pois não é possivel converter o texto para número. \n\u001b[1;32m      4\u001b[0m O erro pode ser visto abaixo '''\n",
      "\u001b[0;31mValueError\u001b[0m: invalid literal for int() with base 10: 'Algum texto'"
     ]
    }
   ],
   "source": [
    "textoEntrada = \"Algum texto\"\n",
    "numero = int(textoEntrada) \n",
    "''' observe que a segunda linha gerará um erro pois não é possivel converter o texto para número. \n",
    "O erro pode ser visto abaixo '''"
   ]
  },
  {
   "cell_type": "code",
   "execution_count": 14,
   "metadata": {
    "collapsed": false
   },
   "outputs": [
    {
     "data": {
      "text/plain": [
       "5.0"
      ]
     },
     "execution_count": 14,
     "metadata": {},
     "output_type": "execute_result"
    }
   ],
   "source": [
    "f = 5\n",
    "d = float(f)\n",
    "d"
   ]
  },
  {
   "cell_type": "markdown",
   "metadata": {},
   "source": [
    "### Saída de dados:\n",
    "\n",
    "Sempre que quisermos mostrar alguma informação no terminal do python estaremos trabalhando com saida de dados. Esta saida usualmente mostra texto e/ou os valores das variáveis do programa.\n",
    "\n",
    "No python para imprimirmos utilizaremos o comando print.\n",
    "\n",
    "Alguns exemplos:"
   ]
  },
  {
   "cell_type": "code",
   "execution_count": 15,
   "metadata": {
    "collapsed": false
   },
   "outputs": [
    {
     "name": "stdout",
     "output_type": "stream",
     "text": [
      "Ola mundiz\n"
     ]
    }
   ],
   "source": [
    "print \"Ola mundiz\""
   ]
  },
  {
   "cell_type": "code",
   "execution_count": 16,
   "metadata": {
    "collapsed": false
   },
   "outputs": [
    {
     "name": "stdout",
     "output_type": "stream",
     "text": [
      "10\n"
     ]
    }
   ],
   "source": [
    "a = 10\n",
    "print a"
   ]
  },
  {
   "cell_type": "code",
   "execution_count": 17,
   "metadata": {
    "collapsed": false
   },
   "outputs": [
    {
     "name": "stdout",
     "output_type": "stream",
     "text": [
      "Programar é muito divertido! \n"
     ]
    }
   ],
   "source": [
    "texto = 'Programar é muito divertido! '\n",
    "print texto"
   ]
  },
  {
   "cell_type": "markdown",
   "metadata": {},
   "source": [
    "### União de textos:\n",
    "\n",
    "Em alguns momentos vamos querer ter uma saida composta por varios valores, de texto e de variáveis. Para isso precisaremos concatenar(unir) vários pedaços de textos para criar um texto composto. Desta forma as saídas de nossos programas serão bem mais interessantes.  Para realizar a união de dois textos utilizamos o perador <b>+</b>  não confunda com a soma numérica. \n",
    "\n",
    "Exemplos:"
   ]
  },
  {
   "cell_type": "code",
   "execution_count": 18,
   "metadata": {
    "collapsed": false
   },
   "outputs": [
    {
     "name": "stdout",
     "output_type": "stream",
     "text": [
      "Textos unidos  JAMAIS serão vencidos\n"
     ]
    }
   ],
   "source": [
    "print \"Textos unidos \" + \" JAMAIS \" + 'serão vencidos'\n"
   ]
  },
  {
   "cell_type": "code",
   "execution_count": 19,
   "metadata": {
    "collapsed": false
   },
   "outputs": [
    {
     "name": "stdout",
     "output_type": "stream",
     "text": [
      "Era uma vez:  uma história que acabou de acabar... :(\n"
     ]
    }
   ],
   "source": [
    "a = \"Era uma vez: \"\n",
    "print  a + \" uma história que acabou de acabar... :(\""
   ]
  },
  {
   "cell_type": "code",
   "execution_count": 20,
   "metadata": {
    "collapsed": false
   },
   "outputs": [
    {
     "ename": "TypeError",
     "evalue": "cannot concatenate 'str' and 'int' objects",
     "output_type": "error",
     "traceback": [
      "\u001b[0;31m---------------------------------------------------------------------------\u001b[0m",
      "\u001b[0;31mTypeError\u001b[0m                                 Traceback (most recent call last)",
      "\u001b[0;32m<ipython-input-20-4b76fe4ac770>\u001b[0m in \u001b[0;36m<module>\u001b[0;34m()\u001b[0m\n\u001b[1;32m      1\u001b[0m \u001b[0;31m#este código gerará um erro, pois o python não sabe como juntar um texto e valor numérico\u001b[0m\u001b[0;34m\u001b[0m\u001b[0;34m\u001b[0m\u001b[0m\n\u001b[1;32m      2\u001b[0m \u001b[0mb\u001b[0m \u001b[0;34m=\u001b[0m \u001b[0;36m4\u001b[0m\u001b[0;34m\u001b[0m\u001b[0m\n\u001b[0;32m----> 3\u001b[0;31m \u001b[0;32mprint\u001b[0m \u001b[0;34m\"primeiro texto \"\u001b[0m \u001b[0;34m+\u001b[0m \u001b[0mb\u001b[0m \u001b[0;34m+\u001b[0m \u001b[0;34m\" outro texto \"\u001b[0m\u001b[0;34m\u001b[0m\u001b[0m\n\u001b[0m",
      "\u001b[0;31mTypeError\u001b[0m: cannot concatenate 'str' and 'int' objects"
     ]
    }
   ],
   "source": [
    "#este código gerará um erro, pois o python não sabe como juntar um texto e valor numérico\n",
    "b = 4\n",
    "print \"primeiro texto \" + b + \" outro texto \" \n"
   ]
  },
  {
   "cell_type": "markdown",
   "metadata": {},
   "source": [
    "<div class=\"alert alert-warning\" role=\"alert\" style=\"margin: 10px\">\n",
    "Para realizar a união de valores numericos com texto precisamos converter as variaveis numéricas para texto, conforme vimos anteriormente.\n",
    "</div>\n",
    "\n",
    "Exemplo:"
   ]
  },
  {
   "cell_type": "code",
   "execution_count": 21,
   "metadata": {
    "collapsed": false
   },
   "outputs": [
    {
     "name": "stdout",
     "output_type": "stream",
     "text": [
      "valor 1: 10 valor 2: 11.4\n"
     ]
    }
   ],
   "source": [
    "a = 10\n",
    "b = 11.4\n",
    "print \"valor 1: \" + str(a) + \" valor 2: \" + str(b)\n",
    "#                     |                      /            \n",
    "#                     convertendo para texto\n"
   ]
  },
  {
   "cell_type": "markdown",
   "metadata": {},
   "source": [
    "<div class=\"alert alert-warning\" role=\"alert\" style=\"margin: 10px\">\n",
    "<b >Exercícios:</b>\n",
    "<ol>\n",
    "<li> Crie as variáveis A e B com valores  numéricos. Imprima elas no terminal no seguinte formato:<br>\n",
    "    Valor de A = (valor armazenado em A) e Valor de B = (valor armazenado em B)<br>\n",
    "    Substitua os textos dentro dos parenteses pelos valores armazenados em A e B)\n",
    "</li>\n",
    "<li> Modifique o exercicio anteriro para, além de imprimir os valores de A e B, imprimir a média entre eles</li>\n",
    "</ol>\n",
    "</div>\n"
   ]
  },
  {
   "cell_type": "markdown",
   "metadata": {},
   "source": [
    "Professor estou cansado, é muita informação!  Calma já estamos quase acabando, só falta mais um tópico para acabarmos a aula de hoje e começarmos a escrever nossos primeiros programas.\n",
    "\n",
    "\n",
    "### Entrada de dados:\n",
    "\n",
    "Usualmente quando formos criar os nossos programas, a cada vez que os rodarmos, queremos que o programa pergunte os dados que serão utilizados para o processamento. Usualmente a entrada de dados segue o seguinte padrão:\n",
    "\n",
    "<ol>\n",
    "<li>O programa pede para o usuário um dado</li>\n",
    "<li>O usuário informa o dado</li>\n",
    "<li>Este dado é armazenado em uma variável para uso posterior.</li>\n",
    "</ol>\n",
    "\n",
    " Para ler um dado no python utilizaremos o comando <b>raw_input</b>, este comando recebe uma mensagem que será mostrada ao usuário e devolve o valor lido do teclado em formato de texto para ser utilizado. \n",
    "\n",
    "Exemplos:\n"
   ]
  },
  {
   "cell_type": "code",
   "execution_count": 22,
   "metadata": {
    "collapsed": false
   },
   "outputs": [
    {
     "name": "stdout",
     "output_type": "stream",
     "text": [
      "Digite algum texto: Exemplinho de entrada de texto\n"
     ]
    }
   ],
   "source": [
    "valorLido = raw_input(\"Digite algum texto: \")"
   ]
  },
  {
   "cell_type": "code",
   "execution_count": 23,
   "metadata": {
    "collapsed": false
   },
   "outputs": [
    {
     "name": "stdout",
     "output_type": "stream",
     "text": [
      "digite um valor inteiro de 0 a 10: 9\n"
     ]
    }
   ],
   "source": [
    "numero = raw_input(\"digite um valor inteiro de 0 a 10: \")\n"
   ]
  },
  {
   "cell_type": "markdown",
   "metadata": {},
   "source": [
    "Observe que embora o exeplo 2 leu corretamente o dado, este foi armazenado na variável com nome numero como um texto. Isso se da pela natureza do raw_input, pois ele sempre devolve um texto.  Se quisermos ler um numero inteiro apropriadamente, precisamos coverter a saída do raw_input para numero. Caso contrário estaremos com um número em formato de texto, o que nos impede de somar este valor com outro, por exemplo.\n",
    "\n",
    "Para converter de texto para número usamos o mesmo formato que vimos anteriormente\n",
    "\n",
    "Exemplos:\n"
   ]
  },
  {
   "cell_type": "code",
   "execution_count": 24,
   "metadata": {
    "collapsed": false
   },
   "outputs": [
    {
     "name": "stdout",
     "output_type": "stream",
     "text": [
      "digite um valor inteiro de 0 a 10: 0\n"
     ]
    }
   ],
   "source": [
    "#le o valor\n",
    "numero = raw_input(\"digite um valor inteiro de 0 a 10: \")\n",
    "#converte o valor para inteiro e armazena devolta na variavel numero como número agora\n",
    "numero = int(numero)"
   ]
  },
  {
   "cell_type": "code",
   "execution_count": 25,
   "metadata": {
    "collapsed": false
   },
   "outputs": [
    {
     "name": "stdout",
     "output_type": "stream",
     "text": [
      "digite o preco do produto: 0.56\n"
     ]
    }
   ],
   "source": [
    "#tudo feito em uma única linha \n",
    "numeroDecimal = float(raw_input(\"digite o preco do produto: \"))"
   ]
  },
  {
   "cell_type": "markdown",
   "metadata": {},
   "source": [
    "<div class=\"alert alert-warning\" role=\"alert\" style=\"margin: 10px\">\n",
    "<b >Exercícios:</b>\n",
    "<ol>\n",
    "<li> Leia um valor de texto para uma variavel</li>\n",
    "<li> Leia um valor numérico inteiro para uam variável</li>\n",
    "<li> Leia um valor numérico decimal para uam variável</li>\n",
    "<li> Leia dois valores numéricos e imprima a soma deles</li>\n",
    "</ol>\n",
    "</div>"
   ]
  },
  {
   "cell_type": "markdown",
   "metadata": {},
   "source": [
    "Escrevendo um programa completo:"
   ]
  },
  {
   "cell_type": "code",
   "execution_count": 26,
   "metadata": {
    "collapsed": false
   },
   "outputs": [
    {
     "name": "stdout",
     "output_type": "stream",
     "text": [
      "digite o valor 1: 4\n",
      "digite o valor 2: 5\n",
      "a media entre os valores: 4.0, 5.0 é: 4.5\n"
     ]
    }
   ],
   "source": [
    "#este programa le dois valores numéricos decimais, calcula a media entre eles, e imprime o resutado para o usuário\n",
    "valor1 = float(raw_input(\"digite o valor 1: \"))\n",
    "valor2 = float(raw_input(\"digite o valor 2: \"))\n",
    "media = (valor1 + valor2)/2\n",
    "print \"a media entre os valores: \" + str(valor1) + \", \" + str(valor2) + \" é: \" + str(media)"
   ]
  },
  {
   "cell_type": "markdown",
   "metadata": {},
   "source": [
    "\n",
    "\n",
    "<p style=\"font-size:200%\">Acabou o conteúdo de hoje! \\o/ <br><br> Agora \"bora\" exercitar</p>\n",
    "\n"
   ]
  },
  {
   "cell_type": "code",
   "execution_count": null,
   "metadata": {
    "collapsed": true
   },
   "outputs": [],
   "source": []
  }
 ],
 "metadata": {
  "kernelspec": {
   "display_name": "Python [Root]",
   "language": "python",
   "name": "Python [Root]"
  },
  "language_info": {
   "codemirror_mode": {
    "name": "ipython",
    "version": 2
   },
   "file_extension": ".py",
   "mimetype": "text/x-python",
   "name": "python",
   "nbconvert_exporter": "python",
   "pygments_lexer": "ipython2",
   "version": "2.7.12"
  }
 },
 "nbformat": 4,
 "nbformat_minor": 0
}
